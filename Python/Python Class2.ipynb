{
 "cells": [
  {
   "cell_type": "markdown",
   "metadata": {
    "application/vnd.databricks.v1+cell": {
     "cellMetadata": {},
     "inputWidgets": {},
     "nuid": "719ed02b-f904-4714-987f-23792a84feea",
     "showTitle": false,
     "tableResultSettingsMap": {},
     "title": ""
    }
   },
   "source": [
    "# File handling"
   ]
  },
  {
   "cell_type": "code",
   "execution_count": 0,
   "metadata": {
    "application/vnd.databricks.v1+cell": {
     "cellMetadata": {
      "byteLimit": 2048000,
      "rowLimit": 10000
     },
     "inputWidgets": {},
     "nuid": "62e8c1c9-5c1e-4c95-bfb5-2d1a3c96aa70",
     "showTitle": false,
     "tableResultSettingsMap": {},
     "title": ""
    }
   },
   "outputs": [],
   "source": [
    " \n",
    "      #To print 10 rows  \n",
    "    #for i, row in enumerate(reader):\n",
    "        #if i >= 10:  # change 10 to any number\n",
    "         #break\n",
    "        #print(row)\n",
    "        \n",
    "\n"
   ]
  },
  {
   "cell_type": "code",
   "execution_count": 0,
   "metadata": {
    "application/vnd.databricks.v1+cell": {
     "cellMetadata": {
      "byteLimit": 2048000,
      "rowLimit": 10000
     },
     "inputWidgets": {},
     "nuid": "480bf2fa-63ef-4f6b-91a8-6d269b4c01ae",
     "showTitle": false,
     "tableResultSettingsMap": {},
     "title": ""
    }
   },
   "outputs": [],
   "source": [
    "import csv\n",
    "\n",
    "with open('global_food_wastage_dataset.csv',mode='r') as file:\n",
    "    reader=csv.DictReader(file)\n",
    "    for row in reader:\n",
    "        print(row['Country'])\n",
    "\n",
    "## for printing  different countries\n",
    "import csv\n",
    "Unique_country=set()\n",
    "\n",
    "with open('global_food_wastage_dataset.csv',mode='r') as file:\n",
    "    reader=csv.DictReader(file)\n",
    "    for row in reader:\n",
    "        Country=row['Country']\n",
    "        Unique_country.add(Country)\n",
    "print(Unique_country)        "
   ]
  },
  {
   "cell_type": "code",
   "execution_count": 0,
   "metadata": {
    "application/vnd.databricks.v1+cell": {
     "cellMetadata": {
      "byteLimit": 2048000,
      "rowLimit": 10000
     },
     "inputWidgets": {},
     "nuid": "4ce0e6ef-e7ac-48a8-90a8-44da3808c0a0",
     "showTitle": false,
     "tableResultSettingsMap": {},
     "title": ""
    }
   },
   "outputs": [],
   "source": [
    "a = {\"apple\", \"banana\"}\n",
    "b = {\"banana\", \"cherry\"}\n",
    "print(a & b)  # {'banana'}\n",
    "print(a | b)  # {'apple', 'banana', 'cherry'}\n",
    "print(a - b)  # {'apple'}"
   ]
  },
  {
   "cell_type": "markdown",
   "metadata": {
    "application/vnd.databricks.v1+cell": {
     "cellMetadata": {},
     "inputWidgets": {},
     "nuid": "859882ce-0cca-4709-8d5d-11da995881c5",
     "showTitle": false,
     "tableResultSettingsMap": {},
     "title": ""
    }
   },
   "source": [
    "###  writing to csv"
   ]
  },
  {
   "cell_type": "code",
   "execution_count": 0,
   "metadata": {
    "application/vnd.databricks.v1+cell": {
     "cellMetadata": {
      "byteLimit": 2048000,
      "rowLimit": 10000
     },
     "inputWidgets": {},
     "nuid": "1e91b7ca-8e26-42fc-8e60-5b9d5c8ead70",
     "showTitle": false,
     "tableResultSettingsMap": {},
     "title": ""
    }
   },
   "outputs": [],
   "source": [
    "#writing in csv\n",
    "import csv\n",
    "with open('output.csv',mode='w') as file:\n",
    "    writer=csv.writer(file)\n",
    "    writer.writerow(['Country','Wastage'])\n"
   ]
  },
  {
   "cell_type": "code",
   "execution_count": 0,
   "metadata": {
    "application/vnd.databricks.v1+cell": {
     "cellMetadata": {
      "byteLimit": 2048000,
      "rowLimit": 10000
     },
     "inputWidgets": {},
     "nuid": "797b69e4-164f-4a36-bc8e-94b6947b70dd",
     "showTitle": false,
     "tableResultSettingsMap": {},
     "title": ""
    }
   },
   "outputs": [],
   "source": [
    "with open('log.txt','r') as file:\n",
    "    count=0\n",
    "    for line in file:\n",
    "        if 'ERROR'in line:\n",
    "         print(f'Error at line {count} : {line.strip()}')\n",
    "        count+=1 \n"
   ]
  },
  {
   "cell_type": "code",
   "execution_count": 0,
   "metadata": {
    "application/vnd.databricks.v1+cell": {
     "cellMetadata": {
      "byteLimit": 2048000,
      "rowLimit": 10000
     },
     "inputWidgets": {},
     "nuid": "c8eec171-d792-418c-b266-db83b1d3e783",
     "showTitle": false,
     "tableResultSettingsMap": {},
     "title": ""
    }
   },
   "outputs": [],
   "source": [
    "import requests\n",
    "\n",
    "url = \"https://fresh-linkedin-profile-data.p.rapidapi.com/get-linkedin-profile\"\n",
    "\n",
    "querystring = {\"linkedin_url\":\"https://www.linkedin.com/in/cjfollini/\",\"include_skills\":\"false\",\"include_certifications\":\"false\",\"include_publications\":\"false\",\"include_honors\":\"false\",\"include_volunteers\":\"false\",\"include_projects\":\"false\",\"include_patents\":\"false\",\"include_courses\":\"false\",\"include_organizations\":\"false\",\"include_profile_status\":\"false\",\"include_company_public_url\":\"false\"}\n",
    "\n",
    "headers = {\n",
    "\t\"x-rapidapi-key\": \"84ed98aeaamshd002a856cef7fcbp1cea1ajsn9f1a2a19e373\",\n",
    "\t\"x-rapidapi-host\": \"fresh-linkedin-profile-data.p.rapidapi.com\"\n",
    "}\n",
    "\n",
    "response = requests.get(url, headers=headers, params=querystring)\n",
    "\n",
    "print(response.json())"
   ]
  },
  {
   "cell_type": "markdown",
   "metadata": {
    "application/vnd.databricks.v1+cell": {
     "cellMetadata": {},
     "inputWidgets": {},
     "nuid": "e3efacd0-cc86-48cb-a3e2-4102ec379d55",
     "showTitle": false,
     "tableResultSettingsMap": {},
     "title": ""
    }
   },
   "source": []
  },
  {
   "cell_type": "markdown",
   "metadata": {
    "application/vnd.databricks.v1+cell": {
     "cellMetadata": {},
     "inputWidgets": {},
     "nuid": "51a869a6-85d8-47cf-b00b-4fca3f4545e4",
     "showTitle": false,
     "tableResultSettingsMap": {},
     "title": ""
    }
   },
   "source": [
    "## 🧪 MINI PROJECT: File + API + Logic\n",
    "_✅ Task:_\n",
    "\n",
    "- Fetch users from API\n",
    "- Filter users from a specific city\n",
    "- Write to a CSV"
   ]
  },
  {
   "cell_type": "code",
   "execution_count": 0,
   "metadata": {
    "application/vnd.databricks.v1+cell": {
     "cellMetadata": {
      "byteLimit": 2048000,
      "rowLimit": 10000
     },
     "inputWidgets": {},
     "nuid": "99b4cf12-f518-4724-a44b-2c8812822961",
     "showTitle": false,
     "tableResultSettingsMap": {},
     "title": ""
    }
   },
   "outputs": [],
   "source": [
    "import requests, csv\n",
    "\n",
    "response = requests.get('https://jsonplaceholder.typicode.com/users')\n",
    "\n",
    "if response.status_code == 200:\n",
    "    users = response.json()\n",
    "\n",
    "    with open('city_users.csv', 'w', newline='') as file:\n",
    "        writer = csv.writer(file)\n",
    "        writer.writerow(['Name', 'City'])\n",
    "\n",
    "        for user in users:\n",
    "            if user['address']['city'] == 'South Christy':\n",
    "                writer.writerow([user['name'], user['address']['city']])\n",
    "else:\n",
    "    print(\"Failed to fetch data\")"
   ]
  }
 ],
 "metadata": {
  "application/vnd.databricks.v1+notebook": {
   "computePreferences": null,
   "dashboards": [],
   "environmentMetadata": {
    "base_environment": "",
    "environment_version": "2"
   },
   "inputWidgetPreferences": null,
   "language": "python",
   "notebookMetadata": {
    "pythonIndentUnit": 4
   },
   "notebookName": "Python Class2",
   "widgets": {}
  },
  "language_info": {
   "name": "python"
  }
 },
 "nbformat": 4,
 "nbformat_minor": 0
}
