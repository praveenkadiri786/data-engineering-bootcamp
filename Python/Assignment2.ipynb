{
 "cells": [
  {
   "cell_type": "markdown",
   "metadata": {
    "application/vnd.databricks.v1+cell": {
     "cellMetadata": {},
     "inputWidgets": {},
     "nuid": "6a00d4c8-42f7-40a9-939c-fd3c755b0395",
     "showTitle": false,
     "tableResultSettingsMap": {},
     "title": ""
    }
   },
   "source": [
    "# "
   ]
  },
  {
   "cell_type": "code",
   "execution_count": 0,
   "metadata": {
    "application/vnd.databricks.v1+cell": {
     "cellMetadata": {
      "byteLimit": 2048000,
      "rowLimit": 10000
     },
     "inputWidgets": {},
     "nuid": "d9879881-e5bc-4eec-92d9-261b54a957b8",
     "showTitle": false,
     "tableResultSettingsMap": {},
     "title": ""
    }
   },
   "outputs": [],
   "source": [
    "df = spark.read.format(\"csv\").option(\"header\", \"true\").load(\"/Volumes/workspace/default/volume1/Sample_customerS.csv\")\n",
    "df.show()"
   ]
  },
  {
   "cell_type": "code",
   "execution_count": 0,
   "metadata": {
    "application/vnd.databricks.v1+cell": {
     "cellMetadata": {
      "byteLimit": 2048000,
      "rowLimit": 10000
     },
     "inputWidgets": {},
     "nuid": "830b1b8c-1ea4-4d44-846f-05f1bf3e022c",
     "showTitle": false,
     "tableResultSettingsMap": {},
     "title": ""
    }
   },
   "outputs": [],
   "source": [
    "#1\n",
    "import csv\n",
    "with open(\"/Volumes/workspace/default/volume1/Sample_customerS.csv\",mode='r') as file:\n",
    "    reader=csv.DictReader(file)\n",
    "    for row in reader:\n",
    "     print(row)\n"
   ]
  },
  {
   "cell_type": "code",
   "execution_count": 0,
   "metadata": {
    "application/vnd.databricks.v1+cell": {
     "cellMetadata": {
      "byteLimit": 2048000,
      "rowLimit": 10000
     },
     "inputWidgets": {},
     "nuid": "41fd9b35-ee07-4078-b0c6-9f60297e949f",
     "showTitle": false,
     "tableResultSettingsMap": {},
     "title": ""
    }
   },
   "outputs": [],
   "source": [
    "#2.TRY AND EXCEPT\n",
    "import csv\n",
    "try:\n",
    "    with open(\"/Volumes/workspace/default/volume1/Sample_customers.csv\",mode='r') as file: #s is small\n",
    "        reader=csv.DictReader(file)\n",
    "        try:\n",
    "            for row in reader:\n",
    "             print(row)\n",
    "        except:\n",
    "            print(\"value error during row Parsing\")     \n",
    "except:\n",
    "    print(\"File not found error\")     "
   ]
  },
  {
   "cell_type": "code",
   "execution_count": 0,
   "metadata": {
    "application/vnd.databricks.v1+cell": {
     "cellMetadata": {
      "byteLimit": 2048000,
      "rowLimit": 10000
     },
     "inputWidgets": {},
     "nuid": "e3c3a391-6510-400f-a63b-9a77f5ca24d8",
     "showTitle": false,
     "tableResultSettingsMap": {},
     "title": ""
    }
   },
   "outputs": [],
   "source": [
    "import csv\n",
    "new_customer = [\"105\", \"Ravi Kumar\", \"28\", \"ravi@example.com\"]\n",
    "with open(\"/Volumes/workspace/default/volume1/Sample_customers.csv\",mode='a') as file:\n",
    "    writer=csv.writer(file)\n",
    "    writer=writer.writerow(new_customer)\n"
   ]
  },
  {
   "cell_type": "code",
   "execution_count": 0,
   "metadata": {
    "application/vnd.databricks.v1+cell": {
     "cellMetadata": {
      "byteLimit": 2048000,
      "rowLimit": 10000
     },
     "inputWidgets": {},
     "nuid": "e53c8fb7-0523-42ae-923b-c86c6770f439",
     "showTitle": false,
     "tableResultSettingsMap": {},
     "title": ""
    }
   },
   "outputs": [],
   "source": [
    "#4.\n",
    "import logging\n",
    "\n",
    "logging.basicConfig(level=logging.INFO, format='%(levelname)s: %(message)s')\n",
    "\n",
    "try:\n",
    "    with open(\"/Workspace/Repos/praveenkadiri2000@gmail.com/data-engineering-bootcamp/Python/Sample_customerS\", mode='a', encoding='utf-8', newline='') as file:\n",
    "        writer = csv.writer(file)\n",
    "        writer.writerow(new_customer)\n",
    "        logging.info(\"New customer record appended successfully.\")\n",
    "except Exception as e:\n",
    "    logging.error(f\"Error while appending: {e}\")"
   ]
  },
  {
   "cell_type": "code",
   "execution_count": 0,
   "metadata": {
    "application/vnd.databricks.v1+cell": {
     "cellMetadata": {},
     "inputWidgets": {},
     "nuid": "f6c638ce-bebb-4717-b589-2cf6ef48e504",
     "showTitle": false,
     "tableResultSettingsMap": {},
     "title": ""
    }
   },
   "outputs": [],
   "source": []
  }
 ],
 "metadata": {
  "application/vnd.databricks.v1+notebook": {
   "computePreferences": null,
   "dashboards": [],
   "environmentMetadata": {
    "base_environment": "",
    "environment_version": "2"
   },
   "inputWidgetPreferences": null,
   "language": "python",
   "notebookMetadata": {
    "pythonIndentUnit": 4
   },
   "notebookName": "Assignment2",
   "widgets": {}
  },
  "language_info": {
   "name": "python"
  }
 },
 "nbformat": 4,
 "nbformat_minor": 0
}
