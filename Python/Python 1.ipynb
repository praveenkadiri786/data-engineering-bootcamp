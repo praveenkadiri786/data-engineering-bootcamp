{
 "cells": [
  {
   "cell_type": "code",
   "execution_count": 0,
   "metadata": {
    "application/vnd.databricks.v1+cell": {
     "cellMetadata": {
      "byteLimit": 2048000,
      "rowLimit": 10000
     },
     "collapsed": true,
     "inputWidgets": {},
     "nuid": "35a4820b-6b87-4e70-b04f-7b1b828794ca",
     "showTitle": false,
     "tableResultSettingsMap": {},
     "title": ""
    }
   },
   "outputs": [],
   "source": [
    "a=5\n",
    "print(a)\n",
    "type(a)\n"
   ]
  },
  {
   "cell_type": "code",
   "execution_count": 0,
   "metadata": {
    "application/vnd.databricks.v1+cell": {
     "cellMetadata": {
      "byteLimit": 2048000,
      "rowLimit": 10000
     },
     "collapsed": true,
     "inputWidgets": {},
     "nuid": "b104d3cd-b75b-43c0-82a0-c53272a7f22a",
     "showTitle": false,
     "tableResultSettingsMap": {},
     "title": ""
    }
   },
   "outputs": [],
   "source": [
    "#use of F string\n",
    "fruit='oranges'\n",
    "print(f\"fruit is {fruit}\")"
   ]
  },
  {
   "cell_type": "markdown",
   "metadata": {
    "application/vnd.databricks.v1+cell": {
     "cellMetadata": {},
     "inputWidgets": {},
     "nuid": "60f6d179-80b6-4c9d-a26e-bd7de4ee2fb2",
     "showTitle": false,
     "tableResultSettingsMap": {},
     "title": ""
    }
   },
   "source": [
    "#   **Lists and slicing**"
   ]
  },
  {
   "cell_type": "code",
   "execution_count": 0,
   "metadata": {
    "application/vnd.databricks.v1+cell": {
     "cellMetadata": {
      "byteLimit": 2048000,
      "rowLimit": 10000
     },
     "inputWidgets": {},
     "nuid": "d2eb4971-778a-4b6d-8449-32ccf72bcadd",
     "showTitle": false,
     "tableResultSettingsMap": {},
     "title": ""
    }
   },
   "outputs": [],
   "source": [
    "employee=['John','Smith','kumar','ashok','bhuvi']\n",
    "employee[1]='Jaden'  ##lists are mutable\n",
    "print(employee[-1]) #last value of list\n",
    "#slicing\n",
    "print(employee[0:-1:2])\n",
    "print(employee[0:5:2])\n",
    "type(employee)"
   ]
  },
  {
   "cell_type": "markdown",
   "metadata": {
    "application/vnd.databricks.v1+cell": {
     "cellMetadata": {},
     "inputWidgets": {},
     "nuid": "f61fe86a-00f0-4c8c-8e5e-3ffe1bb120d5",
     "showTitle": false,
     "tableResultSettingsMap": {},
     "title": ""
    }
   },
   "source": [
    "# Dictionary"
   ]
  },
  {
   "cell_type": "code",
   "execution_count": 0,
   "metadata": {
    "application/vnd.databricks.v1+cell": {
     "cellMetadata": {
      "byteLimit": 2048000,
      "rowLimit": 10000
     },
     "collapsed": true,
     "inputWidgets": {},
     "nuid": "c1725326-940a-4f3c-9f1a-1a4fcfb05f47",
     "showTitle": false,
     "tableResultSettingsMap": {},
     "title": ""
    }
   },
   "outputs": [],
   "source": [
    "employee_info={'name':'John','role':'engineer','salary':50000}\n",
    "print(employee_info['name'])\n",
    "print(f\"EMPLOYEE NAME IS {employee_info['name']} and Salary is {employee_info['salary']}\")\n",
    "## get function\n",
    "print(employee_info.get('location','Not Avialable')) #safe access if key is not present\n",
    "#Mutable -- Can be changed\n",
    "employee_info['salary']=60000\n",
    "print(employee_info)"
   ]
  },
  {
   "cell_type": "markdown",
   "metadata": {
    "application/vnd.databricks.v1+cell": {
     "cellMetadata": {},
     "inputWidgets": {},
     "nuid": "63d99436-b5af-400d-8226-35142d41f557",
     "showTitle": false,
     "tableResultSettingsMap": {},
     "title": ""
    }
   },
   "source": [
    "#   Functions"
   ]
  },
  {
   "cell_type": "code",
   "execution_count": 0,
   "metadata": {
    "application/vnd.databricks.v1+cell": {
     "cellMetadata": {
      "byteLimit": 2048000,
      "rowLimit": 10000
     },
     "collapsed": true,
     "inputWidgets": {},
     "nuid": "79ac2252-d42d-4038-a169-b20018b560d6",
     "showTitle": false,
     "tableResultSettingsMap": {},
     "title": ""
    }
   },
   "outputs": [],
   "source": [
    "def greet(name):\n",
    "    print(f\"Hello {name} !!!\")  \n",
    "greet('Praveen')     #prints Hello Praveen !!!\n",
    "print (greet('Praveen'))  #value will be (Hello Praveen !!! None) because there is no return parameter in function \n",
    "\n"
   ]
  },
  {
   "cell_type": "code",
   "execution_count": 0,
   "metadata": {
    "application/vnd.databricks.v1+cell": {
     "cellMetadata": {
      "byteLimit": 2048000,
      "rowLimit": 10000
     },
     "collapsed": true,
     "inputWidgets": {},
     "nuid": "6577e57b-679a-4963-9a0c-b323e6cfd2f8",
     "showTitle": false,
     "tableResultSettingsMap": {},
     "title": ""
    }
   },
   "outputs": [],
   "source": [
    "def bonus(salary):\n",
    "    if salary>50000:\n",
    "        return 'Bonus is granted for '+employee_info['name']\n",
    "    return 'Bonus is not granted'\n",
    "\n",
    "bonus(employee_info['salary'])"
   ]
  },
  {
   "cell_type": "markdown",
   "metadata": {
    "application/vnd.databricks.v1+cell": {
     "cellMetadata": {},
     "inputWidgets": {},
     "nuid": "b69c9c39-b84e-45b1-bec1-f8777675222f",
     "showTitle": false,
     "tableResultSettingsMap": {},
     "title": ""
    }
   },
   "source": [
    "# if else"
   ]
  },
  {
   "cell_type": "code",
   "execution_count": 0,
   "metadata": {
    "application/vnd.databricks.v1+cell": {
     "cellMetadata": {
      "byteLimit": 2048000,
      "rowLimit": 10000
     },
     "inputWidgets": {},
     "nuid": "6d4edae3-9483-441b-925e-d4f36f87e084",
     "showTitle": false,
     "tableResultSettingsMap": {},
     "title": ""
    }
   },
   "outputs": [],
   "source": [
    "print (\"\\U0001F603\")\n",
    "salary=int(input(\"Enter the Salary!!\"))\n",
    "if salary>=70000:\n",
    "    print(\"Great Salary \")\n",
    "elif salary>=50000:\n",
    "    print(\"Average salary\")\n",
    "else:\n",
    "    print(\"Low Salary\")\n"
   ]
  },
  {
   "cell_type": "markdown",
   "metadata": {
    "application/vnd.databricks.v1+cell": {
     "cellMetadata": {},
     "inputWidgets": {},
     "nuid": "14d0e003-8e59-4dc7-a6a2-cfdd6692fa52",
     "showTitle": false,
     "tableResultSettingsMap": {},
     "title": ""
    }
   },
   "source": [
    "###  Loops – For & While"
   ]
  },
  {
   "cell_type": "markdown",
   "metadata": {
    "application/vnd.databricks.v1+cell": {
     "cellMetadata": {},
     "inputWidgets": {},
     "nuid": "a2462f86-82a3-47c7-ae12-6be2fb3662c8",
     "showTitle": false,
     "tableResultSettingsMap": {},
     "title": ""
    }
   },
   "source": [
    "- for = Iterating over sequences (rows, batches)\n",
    "- while = Looping until a condition (e.g., retries, monitoring)"
   ]
  },
  {
   "cell_type": "code",
   "execution_count": 0,
   "metadata": {
    "application/vnd.databricks.v1+cell": {
     "cellMetadata": {
      "byteLimit": 2048000,
      "rowLimit": 10000
     },
     "collapsed": true,
     "inputWidgets": {},
     "nuid": "225a48d1-2fdf-4181-a147-70772f51e40a",
     "showTitle": false,
     "tableResultSettingsMap": {},
     "title": ""
    }
   },
   "outputs": [],
   "source": [
    "employee=['John','Smith','kumar','ashok','bhuvi']\n",
    "#for loop\n",
    "for i in employee: \n",
    "  print(f\"Hello {i} welcome to databricks\")\n",
    "#while loop \n",
    "count=0\n",
    "while count<5:\n",
    "  print(f\"Hello {employee[count]} welcome to databricks\")\n",
    "  count+=1  \n",
    "\n"
   ]
  },
  {
   "cell_type": "code",
   "execution_count": 0,
   "metadata": {
    "application/vnd.databricks.v1+cell": {
     "cellMetadata": {
      "byteLimit": 2048000,
      "rowLimit": 10000
     },
     "collapsed": true,
     "inputWidgets": {},
     "nuid": "a7da83b3-7c3c-4692-82b7-3cc71cf63baa",
     "showTitle": false,
     "tableResultSettingsMap": {},
     "title": ""
    }
   },
   "outputs": [],
   "source": [
    "#Print from Odd Numbers 0 to 20\n",
    "#range(Start,Stop,Step)\n",
    "for i in range(1,21,2):\n",
    "    print(i)"
   ]
  },
  {
   "cell_type": "markdown",
   "metadata": {
    "application/vnd.databricks.v1+cell": {
     "cellMetadata": {},
     "inputWidgets": {},
     "nuid": "89091ef3-5cca-4bd0-b43a-5a5b7c468264",
     "showTitle": false,
     "tableResultSettingsMap": {},
     "title": ""
    }
   },
   "source": [
    "###  Capstone project"
   ]
  },
  {
   "cell_type": "code",
   "execution_count": 0,
   "metadata": {
    "application/vnd.databricks.v1+cell": {
     "cellMetadata": {
      "byteLimit": 2048000,
      "rowLimit": 10000
     },
     "inputWidgets": {},
     "nuid": "11b594d9-3ab6-4e16-b958-6e516ac52ad1",
     "showTitle": false,
     "tableResultSettingsMap": {},
     "title": ""
    }
   },
   "outputs": [],
   "source": [
    "#employee list\n",
    "employee=['John','Smith','kumar','ashok','bhuvi']\n",
    "print (len(employee)) ##len function\n",
    "\n",
    "#Greet Firstly\n",
    "def greet(name):\n",
    "    print(f\"👋👋Hello {name}!!!\")\n",
    "\n",
    "#Check the Team Size\n",
    "def evaluate_team(employee):\n",
    "    if len(employee)>5:\n",
    "        print(\"Team is Big\") \n",
    "    else:\n",
    "        print(\"Team is Small\")\n",
    "\n",
    "for index,member in enumerate(employee):\n",
    "    \n",
    "    print(f\"Member {index+1} \")\n",
    "    greet(member)\n",
    "    print(\"************\")\n",
    "\n",
    "  \n"
   ]
  },
  {
   "cell_type": "markdown",
   "metadata": {
    "application/vnd.databricks.v1+cell": {
     "cellMetadata": {},
     "inputWidgets": {},
     "nuid": "37c2d2f5-7965-4e4e-9727-671f58418948",
     "showTitle": false,
     "tableResultSettingsMap": {},
     "title": ""
    }
   },
   "source": [
    "%md\n",
    " # Using enumerate in a for loop\n",
    "\n",
    "for index, value in enumerate(my_list):\n",
    "\n",
    "    print(f\"Index {index}: {value}\") "
   ]
  },
  {
   "cell_type": "code",
   "execution_count": 0,
   "metadata": {
    "application/vnd.databricks.v1+cell": {
     "cellMetadata": {
      "byteLimit": 2048000,
      "rowLimit": 10000
     },
     "inputWidgets": {},
     "nuid": "5d386e04-f9c6-46a8-9ce5-4f9ffdf8f3e2",
     "showTitle": false,
     "tableResultSettingsMap": {},
     "title": ""
    }
   },
   "outputs": [],
   "source": [
    "\n",
    "#Type Conversion\n",
    "a=int(input(\"ENter a Number\"))\n",
    "print (type(a))"
   ]
  }
 ],
 "metadata": {
  "application/vnd.databricks.v1+notebook": {
   "computePreferences": null,
   "dashboards": [],
   "environmentMetadata": {
    "base_environment": "",
    "environment_version": "2"
   },
   "inputWidgetPreferences": null,
   "language": "python",
   "notebookMetadata": {
    "pythonIndentUnit": 4
   },
   "notebookName": "Python 1",
   "widgets": {}
  },
  "language_info": {
   "name": "python"
  }
 },
 "nbformat": 4,
 "nbformat_minor": 0
}
