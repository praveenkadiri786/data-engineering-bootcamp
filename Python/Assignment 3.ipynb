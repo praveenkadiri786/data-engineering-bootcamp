{
 "cells": [
  {
   "cell_type": "code",
   "execution_count": 0,
   "metadata": {
    "application/vnd.databricks.v1+cell": {
     "cellMetadata": {
      "byteLimit": 2048000,
      "rowLimit": 10000
     },
     "inputWidgets": {},
     "nuid": "9887ec09-9a3c-42d0-a938-7a054dddfd16",
     "showTitle": false,
     "tableResultSettingsMap": {},
     "title": ""
    }
   },
   "outputs": [],
   "source": [
    "import requests,csv\n",
    "try:\n",
    "    response=requests.get('https://tagmango.com/assets/api_users_sample-81f2d3a6efba909eee7f887caf1854dc.json')\n",
    "\n",
    "    if response.status_code == 200:       \n",
    "        users = response.json()\n",
    "    #users = response.json()\n",
    "        flat_list = [\n",
    "         {\n",
    "            \"name\": u[\"name\"],\n",
    "            \"username\": u[\"username\"],\n",
    "            \"email\": u[\"email\"],\n",
    "            \"city\": u[\"address\"][\"city\"],\n",
    "            \"company_name\": u[\"company\"][\"name\"]\n",
    "         } for u in users]\n",
    "         #print(flat_list)\n",
    "        for user in flat_list:            \n",
    "            print(user)\n",
    "        with open('/Workspace/Repos/praveenkadiri2000@gmail.com/data-engineering-bootcamp/Python/ASS3_output.csv','w') as file:\n",
    "\n",
    "            writer = csv.DictWriter(file,fieldnames=[\"name\", \"username\", \"email\", \"city\", \"company_name\"])\n",
    "            writer.writeheader()\n",
    "            writer.writerows(flat_list)\n",
    "    else:\n",
    "        print(\"failed to fetch data\")    \n",
    "\n",
    "\n",
    "except Exception as e:   \n",
    "    print(\"failed to fetch data\") \n"
   ]
  },
  {
   "cell_type": "code",
   "execution_count": 0,
   "metadata": {
    "application/vnd.databricks.v1+cell": {
     "cellMetadata": {},
     "inputWidgets": {},
     "nuid": "19d4766d-dff8-487c-b735-387ef9175b9f",
     "showTitle": false,
     "tableResultSettingsMap": {},
     "title": ""
    }
   },
   "outputs": [],
   "source": [
    "\n"
   ]
  }
 ],
 "metadata": {
  "application/vnd.databricks.v1+notebook": {
   "computePreferences": null,
   "dashboards": [],
   "environmentMetadata": {
    "base_environment": "",
    "environment_version": "2"
   },
   "inputWidgetPreferences": null,
   "language": "python",
   "notebookMetadata": {
    "pythonIndentUnit": 4
   },
   "notebookName": "Assignment 3",
   "widgets": {}
  },
  "language_info": {
   "name": "python"
  }
 },
 "nbformat": 4,
 "nbformat_minor": 0
}
