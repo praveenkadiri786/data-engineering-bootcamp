{
 "cells": [
  {
   "cell_type": "markdown",
   "metadata": {
    "application/vnd.databricks.v1+cell": {
     "cellMetadata": {},
     "inputWidgets": {},
     "nuid": "3bd33642-6d99-4c7e-82a6-7625b38a7244",
     "showTitle": false,
     "tableResultSettingsMap": {},
     "title": ""
    }
   },
   "source": [
    "# Assignment 1"
   ]
  },
  {
   "cell_type": "code",
   "execution_count": 0,
   "metadata": {
    "application/vnd.databricks.v1+cell": {
     "cellMetadata": {
      "byteLimit": 2048000,
      "rowLimit": 10000
     },
     "inputWidgets": {},
     "nuid": "db035874-157d-48ff-aab9-728219318dd5",
     "showTitle": false,
     "tableResultSettingsMap": {},
     "title": ""
    }
   },
   "outputs": [],
   "source": [
    "#1.\n",
    "customer={\"name\":\"Naveen\",\"location\":'bangalore',\"order_total\":50000}\n",
    "print(customer.items())\n",
    "#2.\n",
    "product_list=['mobile','laptop','mouse','earphones','table']\n",
    "for products in product_list:\n",
    "    print(products.upper())\n",
    "#3.\n",
    "if customer[\"order_total\"]>1000:\n",
    "    print(\"High-value\")\n",
    "else:\n",
    "    \"Normal\" \n",
    "#4. \n",
    "def order_discount(amount):\n",
    "    discount=amount*0.10\n",
    "    return amount-discount\n",
    "print(f'Amount will be {customer[\"order_total\"]}')\n",
    "print(f'After discount amount Reduced to {order_discount(customer[\"order_total\"])}')\n",
    "          \n"
   ]
  },
  {
   "cell_type": "code",
   "execution_count": 0,
   "metadata": {
    "application/vnd.databricks.v1+cell": {
     "cellMetadata": {},
     "inputWidgets": {},
     "nuid": "60dfaf5d-3c5d-4c54-ac71-63fcaddae9b1",
     "showTitle": false,
     "tableResultSettingsMap": {},
     "title": ""
    }
   },
   "outputs": [],
   "source": []
  }
 ],
 "metadata": {
  "application/vnd.databricks.v1+notebook": {
   "computePreferences": null,
   "dashboards": [],
   "environmentMetadata": {
    "base_environment": "",
    "environment_version": "2"
   },
   "inputWidgetPreferences": null,
   "language": "python",
   "notebookMetadata": {
    "pythonIndentUnit": 4
   },
   "notebookName": "Assignment1",
   "widgets": {}
  },
  "language_info": {
   "name": "python"
  }
 },
 "nbformat": 4,
 "nbformat_minor": 0
}
