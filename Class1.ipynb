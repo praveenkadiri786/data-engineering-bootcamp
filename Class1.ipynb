{
 "cells": [
  {
   "cell_type": "markdown",
   "metadata": {
    "application/vnd.databricks.v1+cell": {
     "cellMetadata": {},
     "inputWidgets": {},
     "nuid": "82f3c088-078f-4e10-aa83-434bbac9d6a4",
     "showTitle": false,
     "tableResultSettingsMap": {},
     "title": ""
    }
   },
   "source": [
    "**CREATE,DROP,SELECT,INSERT,\n",
    "MULTIPLE QUERIES IN CELL,SECOND HIGHEST SALARY \n",
    ",Describe,\n",
    "Distinct,where,Group by,having,count**"
   ]
  },
  {
   "cell_type": "code",
   "execution_count": 0,
   "metadata": {
    "application/vnd.databricks.v1+cell": {
     "cellMetadata": {
      "byteLimit": 2048000,
      "implicitDf": true,
      "rowLimit": 10000
     },
     "collapsed": true,
     "inputWidgets": {},
     "nuid": "03ee828d-65bf-4749-8b2a-3496fee1fa11",
     "showTitle": false,
     "tableResultSettingsMap": {},
     "title": ""
    }
   },
   "outputs": [
    {
     "output_type": "display_data",
     "data": {
      "text/html": [
       "<style scoped>\n",
       "  .table-result-container {\n",
       "    max-height: 300px;\n",
       "    overflow: auto;\n",
       "  }\n",
       "  table, th, td {\n",
       "    border: 1px solid black;\n",
       "    border-collapse: collapse;\n",
       "  }\n",
       "  th, td {\n",
       "    padding: 5px;\n",
       "  }\n",
       "  th {\n",
       "    text-align: left;\n",
       "  }\n",
       "</style><div class='table-result-container'><table class='table-result'><thead style='background-color: white'><tr></tr></thead><tbody></tbody></table></div>"
      ]
     },
     "metadata": {
      "application/vnd.databricks.v1+output": {
       "addedWidgets": {},
       "aggData": [],
       "aggError": "",
       "aggOverflow": false,
       "aggSchema": [],
       "aggSeriesLimitReached": false,
       "aggType": "",
       "arguments": {},
       "columnCustomDisplayInfos": {},
       "data": [],
       "datasetInfos": [],
       "dbfsResultPath": null,
       "isJsonSchema": true,
       "metadata": {},
       "overflow": false,
       "plotOptions": {
        "customPlotOptions": {},
        "displayType": "table",
        "pivotAggregation": null,
        "pivotColumns": null,
        "xColumns": null,
        "yColumns": null
       },
       "removedWidgets": [],
       "schema": [],
       "type": "table"
      }
     },
     "output_type": "display_data"
    }
   ],
   "source": [
    "%sql\n",
    "CREATE TABLE employees (\n",
    "    emp_id INT,\n",
    "    first_name VARCHAR(50),\n",
    "    last_name VARCHAR(50),\n",
    "    department VARCHAR(50),\n",
    "    job_title VARCHAR(50),\n",
    "    salary DECIMAL(10, 2),\n",
    "    hire_date DATE,\n",
    "    status VARCHAR(20),\n",
    "    city VARCHAR(50),\n",
    "    email VARCHAR(100)\n",
    ");"
   ]
  },
  {
   "cell_type": "code",
   "execution_count": 0,
   "metadata": {
    "application/vnd.databricks.v1+cell": {
     "cellMetadata": {
      "byteLimit": 2048000,
      "implicitDf": true,
      "rowLimit": 10000
     },
     "collapsed": true,
     "inputWidgets": {},
     "nuid": "6efdb170-223c-4e58-bece-26adaf3e950d",
     "showTitle": false,
     "tableResultSettingsMap": {},
     "title": ""
    }
   },
   "outputs": [
    {
     "output_type": "display_data",
     "data": {
      "text/html": [
       "<style scoped>\n",
       "  .table-result-container {\n",
       "    max-height: 300px;\n",
       "    overflow: auto;\n",
       "  }\n",
       "  table, th, td {\n",
       "    border: 1px solid black;\n",
       "    border-collapse: collapse;\n",
       "  }\n",
       "  th, td {\n",
       "    padding: 5px;\n",
       "  }\n",
       "  th {\n",
       "    text-align: left;\n",
       "  }\n",
       "</style><div class='table-result-container'><table class='table-result'><thead style='background-color: white'><tr><th>num_affected_rows</th><th>num_inserted_rows</th></tr></thead><tbody><tr><td>10</td><td>10</td></tr></tbody></table></div>"
      ]
     },
     "metadata": {
      "application/vnd.databricks.v1+output": {
       "addedWidgets": {},
       "aggData": [],
       "aggError": "",
       "aggOverflow": false,
       "aggSchema": [],
       "aggSeriesLimitReached": false,
       "aggType": "",
       "arguments": {},
       "columnCustomDisplayInfos": {},
       "data": [
        [
         10,
         10
        ]
       ],
       "datasetInfos": [],
       "dbfsResultPath": null,
       "isJsonSchema": true,
       "metadata": {},
       "overflow": false,
       "plotOptions": {
        "customPlotOptions": {},
        "displayType": "table",
        "pivotAggregation": null,
        "pivotColumns": null,
        "xColumns": null,
        "yColumns": null
       },
       "removedWidgets": [],
       "schema": [
        {
         "metadata": "{}",
         "name": "num_affected_rows",
         "type": "\"long\""
        },
        {
         "metadata": "{}",
         "name": "num_inserted_rows",
         "type": "\"long\""
        }
       ],
       "type": "table"
      }
     },
     "output_type": "display_data"
    }
   ],
   "source": [
    "%sql\n",
    "INSERT INTO employees VALUES\n",
    "(1, 'John', 'Doe', 'Engineering', 'Software Engineer', 75000.00, '2020-05-15', 'Active', 'Bangalore', 'john.doe@example.com'),\n",
    "(2, 'Jane', 'Smith', 'HR', 'HR Manager', 65000.00, '2019-03-10', 'Active', 'Mumbai', 'jane.smith@example.com'),\n",
    "(3, 'Raj', 'Kumar', 'Engineering', 'Data Engineer', 85000.00, '2021-07-01', 'Active', 'Hyderabad', 'raj.kumar@example.com'),\n",
    "(4, 'Priya', 'Sharma', 'Marketing', 'Marketing Analyst', 60000.00, '2018-11-22', 'Active', 'Delhi', 'priya.sharma@example.com'),\n",
    "(5, 'Tom', 'Brown', 'Sales', 'Sales Executive', 55000.00, '2022-01-05', 'Active', 'Chennai', 'tom.brown@example.com'),\n",
    "(6, 'Sara', 'Ali', 'Engineering', 'Backend Developer', 78000.00, '2020-09-17', 'Active', 'Pune', 'sara.ali@example.com'),\n",
    "(7, 'Amit', 'Verma', 'Finance', 'Accountant', 62000.00, '2017-06-30', 'Inactive', 'Bangalore', 'amit.verma@example.com'),\n",
    "(8, 'Emily', 'Clark', 'HR', 'Recruiter', 50000.00, '2021-02-14', 'Active', 'Mumbai', 'emily.clark@example.com'),\n",
    "(9, 'Vikram', 'Singh', 'Engineering', 'DevOps Engineer', 90000.00, '2019-08-19', 'Active', 'Hyderabad', 'vikram.singh@example.com'),\n",
    "(10, 'Neha', 'Patel', 'Sales', 'Regional Manager', 95000.00, '2015-04-01', 'Active', 'Delhi', 'neha.patel@example.com');\n"
   ]
  },
  {
   "cell_type": "code",
   "execution_count": 0,
   "metadata": {
    "application/vnd.databricks.v1+cell": {
     "cellMetadata": {
      "byteLimit": 2048000,
      "implicitDf": true,
      "rowLimit": 10000
     },
     "collapsed": true,
     "inputWidgets": {},
     "nuid": "67599719-2722-4d26-8305-05749e70b6b7",
     "showTitle": false,
     "tableResultSettingsMap": {},
     "title": ""
    }
   },
   "outputs": [
    {
     "output_type": "display_data",
     "data": {
      "text/html": [
       "<style scoped>\n",
       "  .table-result-container {\n",
       "    max-height: 300px;\n",
       "    overflow: auto;\n",
       "  }\n",
       "  table, th, td {\n",
       "    border: 1px solid black;\n",
       "    border-collapse: collapse;\n",
       "  }\n",
       "  th, td {\n",
       "    padding: 5px;\n",
       "  }\n",
       "  th {\n",
       "    text-align: left;\n",
       "  }\n",
       "</style><div class='table-result-container'><table class='table-result'><thead style='background-color: white'><tr><th>num_affected_rows</th><th>num_inserted_rows</th></tr></thead><tbody><tr><td>40</td><td>40</td></tr></tbody></table></div>"
      ]
     },
     "metadata": {
      "application/vnd.databricks.v1+output": {
       "addedWidgets": {},
       "aggData": [],
       "aggError": "",
       "aggOverflow": false,
       "aggSchema": [],
       "aggSeriesLimitReached": false,
       "aggType": "",
       "arguments": {},
       "columnCustomDisplayInfos": {},
       "data": [
        [
         40,
         40
        ]
       ],
       "datasetInfos": [],
       "dbfsResultPath": null,
       "isJsonSchema": true,
       "metadata": {
        "isDbfsCommandResult": false
       },
       "overflow": false,
       "plotOptions": {
        "customPlotOptions": {},
        "displayType": "table",
        "pivotAggregation": null,
        "pivotColumns": null,
        "xColumns": null,
        "yColumns": null
       },
       "removedWidgets": [],
       "schema": [
        {
         "metadata": "{}",
         "name": "num_affected_rows",
         "type": "\"long\""
        },
        {
         "metadata": "{}",
         "name": "num_inserted_rows",
         "type": "\"long\""
        }
       ],
       "type": "table"
      }
     },
     "output_type": "display_data"
    }
   ],
   "source": [
    "%sql\n",
    "INSERT INTO employees VALUES\n",
    "(11, 'David', 'Lee', 'Engineering', 'Frontend Developer', 72000.00, '2020-03-11', 'Active', 'Chennai', 'david.lee@example.com'),\n",
    "(12, 'Ananya', 'Roy', 'Finance', 'Financial Analyst', 67000.00, '2019-07-25', 'Active', 'Pune', 'ananya.roy@example.com'),\n",
    "(13, 'Sam', 'Wilson', 'Marketing', 'Content Strategist', 58000.00, '2021-11-30', 'Active', 'Delhi', 'sam.wilson@example.com'),\n",
    "(14, 'Pooja', 'Das', 'Sales', 'Sales Associate', 52000.00, '2018-10-02', 'Inactive', 'Bangalore', 'pooja.das@example.com'),\n",
    "(15, 'Arjun', 'Nair', 'Engineering', 'Data Scientist', 98000.00, '2021-05-20', 'Active', 'Hyderabad', 'arjun.nair@example.com'),\n",
    "(16, 'Kavita', 'Gupta', 'HR', 'Compensation Analyst', 61000.00, '2017-01-16', 'Active', 'Mumbai', 'kavita.gupta@example.com'),\n",
    "(17, 'Robert', 'King', 'Engineering', 'Software Architect', 120000.00, '2016-09-05', 'Active', 'Delhi', 'robert.king@example.com'),\n",
    "(18, 'Meera', 'Joshi', 'Finance', 'Auditor', 69000.00, '2020-12-11', 'Active', 'Pune', 'meera.joshi@example.com'),\n",
    "(19, 'Michael', 'Scott', 'Sales', 'Regional Sales Head', 115000.00, '2015-06-20', 'Active', 'Chennai', 'michael.scott@example.com'),\n",
    "(20, 'Ravi', 'Menon', 'Engineering', 'Machine Learning Engineer', 93000.00, '2019-04-15', 'Active', 'Hyderabad', 'ravi.menon@example.com'),\n",
    "(21, 'Tina', 'Fernandez', 'Marketing', 'SEO Specialist', 57000.00, '2018-05-22', 'Active', 'Delhi', 'tina.fernandez@example.com'),\n",
    "(22, 'Arvind', 'Singh', 'Finance', 'Tax Consultant', 65000.00, '2020-01-25', 'Active', 'Mumbai', 'arvind.singh@example.com'),\n",
    "(23, 'Lucy', 'Adams', 'HR', 'HR Coordinator', 48000.00, '2021-09-10', 'Active', 'Bangalore', 'lucy.adams@example.com'),\n",
    "(24, 'Karan', 'Malhotra', 'Engineering', 'Tech Lead', 105000.00, '2017-11-18', 'Active', 'Chennai', 'karan.malhotra@example.com'),\n",
    "(25, 'Sneha', 'Reddy', 'Sales', 'Sales Manager', 88000.00, '2016-02-09', 'Active', 'Hyderabad', 'sneha.reddy@example.com'),\n",
    "(26, 'George', 'Mason', 'Finance', 'Payroll Specialist', 60000.00, '2022-04-08', 'Active', 'Pune', 'george.mason@example.com'),\n",
    "(27, 'Vishal', 'Kapoor', 'Marketing', 'Brand Manager', 75000.00, '2019-03-19', 'Active', 'Delhi', 'vishal.kapoor@example.com'),\n",
    "(28, 'Emma', 'Watson', 'Engineering', 'QA Engineer', 70000.00, '2020-07-15', 'Active', 'Bangalore', 'emma.watson@example.com'),\n",
    "(29, 'Siddharth', 'Jain', 'Engineering', 'Cloud Engineer', 89000.00, '2018-06-25', 'Active', 'Hyderabad', 'siddharth.jain@example.com'),\n",
    "(30, 'Olivia', 'Brown', 'Sales', 'Territory Manager', 81000.00, '2017-04-05', 'Active', 'Mumbai', 'olivia.brown@example.com'),\n",
    "(31, 'Nikhil', 'Arora', 'Finance', 'Business Analyst', 68000.00, '2021-03-27', 'Active', 'Chennai', 'nikhil.arora@example.com'),\n",
    "(32, 'Ayesha', 'Khan', 'HR', 'Training Specialist', 59000.00, '2019-08-02', 'Active', 'Pune', 'ayesha.khan@example.com'),\n",
    "(33, 'Chris', 'Evans', 'Engineering', 'Security Analyst', 94000.00, '2020-12-18', 'Active', 'Delhi', 'chris.evans@example.com'),\n",
    "(34, 'Ishita', 'Bhatt', 'Marketing', 'Social Media Manager', 63000.00, '2018-07-21', 'Active', 'Bangalore', 'ishita.bhatt@example.com'),\n",
    "(35, 'Shyam', 'Patil', 'Engineering', 'Data Analyst', 76000.00, '2017-02-15', 'Active', 'Hyderabad', 'shyam.patil@example.com'),\n",
    "(36, 'Sophia', 'Green', 'Sales', 'Sales Coordinator', 54000.00, '2022-05-01', 'Active', 'Mumbai', 'sophia.green@example.com'),\n",
    "(37, 'Harsh', 'Aggarwal', 'Finance', 'Investment Analyst', 88000.00, '2016-11-28', 'Active', 'Delhi', 'harsh.aggarwal@example.com'),\n",
    "(38, 'Liam', 'Martin', 'Engineering', 'AI Engineer', 115000.00, '2019-09-30', 'Active', 'Chennai', 'liam.martin@example.com'),\n",
    "(39, 'Diya', 'Saxena', 'HR', 'HRBP', 74000.00, '2020-02-07', 'Active', 'Pune', 'diya.saxena@example.com'),\n",
    "(40, 'Jason', 'Taylor', 'Marketing', 'Market Research Analyst', 58000.00, '2021-06-11', 'Active', 'Hyderabad', 'jason.taylor@example.com'),\n",
    "(41, 'Ritika', 'Mehra', 'Engineering', 'Mobile App Developer', 77000.00, '2018-01-13', 'Active', 'Delhi', 'ritika.mehra@example.com'),\n",
    "(42, 'Steve', 'Jobs', 'Engineering', 'Product Manager', 125000.00, '2015-12-20', 'Active', 'Bangalore', 'steve.jobs@example.com'),\n",
    "(43, 'Alisha', 'Paul', 'Sales', 'Inside Sales Rep', 56000.00, '2020-04-23', 'Active', 'Chennai', 'alisha.paul@example.com'),\n",
    "(44, 'Dhruv', 'Singhania', 'Finance', 'Risk Manager', 97000.00, '2017-10-14', 'Active', 'Mumbai', 'dhruv.singhania@example.com'),\n",
    "(45, 'Rebecca', 'Lewis', 'Marketing', 'PR Specialist', 64000.00, '2019-05-18', 'Active', 'Pune', 'rebecca.lewis@example.com'),\n",
    "(46, 'Naveen', 'Shetty', 'Engineering', 'Technical Support Engineer', 66000.00, '2021-01-12', 'Active', 'Hyderabad', 'naveen.shetty@example.com'),\n",
    "(47, 'Julia', 'Roberts', 'HR', 'HR Generalist', 61000.00, '2018-09-03', 'Active', 'Delhi', 'julia.roberts@example.com'),\n",
    "(48, 'Parth', 'Desai', 'Finance', 'Treasury Analyst', 70000.00, '2019-12-29', 'Active', 'Chennai', 'parth.desai@example.com'),\n",
    "(49, 'Nina', 'Shah', 'Engineering', 'Systems Engineer', 73000.00, '2020-06-17', 'Active', 'Bangalore', 'nina.shah@example.com'),\n",
    "(50, 'Aria', 'Gill', 'Marketing', 'Advertising Manager', 82000.00, '2017-08-09', 'Active', 'Mumbai', 'aria.gill@example.com');\n"
   ]
  },
  {
   "cell_type": "code",
   "execution_count": 0,
   "metadata": {
    "application/vnd.databricks.v1+cell": {
     "cellMetadata": {
      "byteLimit": 2048000,
      "rowLimit": 10000
     },
     "collapsed": true,
     "inputWidgets": {},
     "nuid": "ee2595e7-c501-447d-9530-428924a094f9",
     "showTitle": false,
     "tableResultSettingsMap": {},
     "title": ""
    }
   },
   "outputs": [
    {
     "output_type": "display_data",
     "data": {
      "text/html": [
       "<style scoped>\n",
       "  .table-result-container {\n",
       "    max-height: 300px;\n",
       "    overflow: auto;\n",
       "  }\n",
       "  table, th, td {\n",
       "    border: 1px solid black;\n",
       "    border-collapse: collapse;\n",
       "  }\n",
       "  th, td {\n",
       "    padding: 5px;\n",
       "  }\n",
       "  th {\n",
       "    text-align: left;\n",
       "  }\n",
       "</style><div class='table-result-container'><table class='table-result'><thead style='background-color: white'><tr><th>emp_id</th><th>first_name</th><th>salary</th></tr></thead><tbody><tr><td>17</td><td>Robert</td><td>120000.00</td></tr><tr><td>19</td><td>Michael</td><td>115000.00</td></tr><tr><td>24</td><td>Karan</td><td>105000.00</td></tr><tr><td>38</td><td>Liam</td><td>115000.00</td></tr><tr><td>42</td><td>Steve</td><td>125000.00</td></tr></tbody></table></div>"
      ]
     },
     "metadata": {
      "application/vnd.databricks.v1+output": {
       "addedWidgets": {},
       "aggData": [],
       "aggError": "",
       "aggOverflow": false,
       "aggSchema": [],
       "aggSeriesLimitReached": false,
       "aggType": "",
       "arguments": {},
       "columnCustomDisplayInfos": {},
       "data": [
        [
         17,
         "Robert",
         "120000.00"
        ],
        [
         19,
         "Michael",
         "115000.00"
        ],
        [
         24,
         "Karan",
         "105000.00"
        ],
        [
         38,
         "Liam",
         "115000.00"
        ],
        [
         42,
         "Steve",
         "125000.00"
        ]
       ],
       "datasetInfos": [],
       "dbfsResultPath": null,
       "isJsonSchema": true,
       "metadata": {},
       "overflow": false,
       "plotOptions": {
        "customPlotOptions": {},
        "displayType": "table",
        "pivotAggregation": null,
        "pivotColumns": null,
        "xColumns": null,
        "yColumns": null
       },
       "removedWidgets": [],
       "schema": [
        {
         "metadata": "{}",
         "name": "emp_id",
         "type": "\"integer\""
        },
        {
         "metadata": "{\"__CHAR_VARCHAR_TYPE_STRING\":\"varchar(50)\"}",
         "name": "first_name",
         "type": "\"string\""
        },
        {
         "metadata": "{}",
         "name": "salary",
         "type": "\"decimal(10,2)\""
        }
       ],
       "type": "table"
      }
     },
     "output_type": "display_data"
    },
    {
     "output_type": "display_data",
     "data": {
      "text/html": [
       "<style scoped>\n",
       "  .table-result-container {\n",
       "    max-height: 300px;\n",
       "    overflow: auto;\n",
       "  }\n",
       "  table, th, td {\n",
       "    border: 1px solid black;\n",
       "    border-collapse: collapse;\n",
       "  }\n",
       "  th, td {\n",
       "    padding: 5px;\n",
       "  }\n",
       "  th {\n",
       "    text-align: left;\n",
       "  }\n",
       "</style><div class='table-result-container'><table class='table-result'><thead style='background-color: white'><tr><th>emp_id</th><th>first_name</th><th>last_name</th><th>department</th><th>job_title</th><th>salary</th><th>hire_date</th><th>status</th><th>city</th><th>email</th></tr></thead><tbody><tr><td>11</td><td>David</td><td>Lee</td><td>Engineering</td><td>Frontend Developer</td><td>72000.00</td><td>2020-03-11</td><td>Active</td><td>Chennai</td><td>david.lee@example.com</td></tr><tr><td>15</td><td>Arjun</td><td>Nair</td><td>Engineering</td><td>Data Scientist</td><td>98000.00</td><td>2021-05-20</td><td>Active</td><td>Hyderabad</td><td>arjun.nair@example.com</td></tr><tr><td>17</td><td>Robert</td><td>King</td><td>Engineering</td><td>Software Architect</td><td>120000.00</td><td>2016-09-05</td><td>Active</td><td>Delhi</td><td>robert.king@example.com</td></tr><tr><td>20</td><td>Ravi</td><td>Menon</td><td>Engineering</td><td>Machine Learning Engineer</td><td>93000.00</td><td>2019-04-15</td><td>Active</td><td>Hyderabad</td><td>ravi.menon@example.com</td></tr><tr><td>24</td><td>Karan</td><td>Malhotra</td><td>Engineering</td><td>Tech Lead</td><td>105000.00</td><td>2017-11-18</td><td>Active</td><td>Chennai</td><td>karan.malhotra@example.com</td></tr><tr><td>29</td><td>Siddharth</td><td>Jain</td><td>Engineering</td><td>Cloud Engineer</td><td>89000.00</td><td>2018-06-25</td><td>Active</td><td>Hyderabad</td><td>siddharth.jain@example.com</td></tr><tr><td>33</td><td>Chris</td><td>Evans</td><td>Engineering</td><td>Security Analyst</td><td>94000.00</td><td>2020-12-18</td><td>Active</td><td>Delhi</td><td>chris.evans@example.com</td></tr><tr><td>35</td><td>Shyam</td><td>Patil</td><td>Engineering</td><td>Data Analyst</td><td>76000.00</td><td>2017-02-15</td><td>Active</td><td>Hyderabad</td><td>shyam.patil@example.com</td></tr><tr><td>38</td><td>Liam</td><td>Martin</td><td>Engineering</td><td>AI Engineer</td><td>115000.00</td><td>2019-09-30</td><td>Active</td><td>Chennai</td><td>liam.martin@example.com</td></tr><tr><td>39</td><td>Diya</td><td>Saxena</td><td>HR</td><td>HRBP</td><td>74000.00</td><td>2020-02-07</td><td>Active</td><td>Pune</td><td>diya.saxena@example.com</td></tr><tr><td>41</td><td>Ritika</td><td>Mehra</td><td>Engineering</td><td>Mobile App Developer</td><td>77000.00</td><td>2018-01-13</td><td>Active</td><td>Delhi</td><td>ritika.mehra@example.com</td></tr><tr><td>42</td><td>Steve</td><td>Jobs</td><td>Engineering</td><td>Product Manager</td><td>125000.00</td><td>2015-12-20</td><td>Active</td><td>Bangalore</td><td>steve.jobs@example.com</td></tr><tr><td>49</td><td>Nina</td><td>Shah</td><td>Engineering</td><td>Systems Engineer</td><td>73000.00</td><td>2020-06-17</td><td>Active</td><td>Bangalore</td><td>nina.shah@example.com</td></tr><tr><td>1</td><td>John</td><td>Doe</td><td>Engineering</td><td>Software Engineer</td><td>75000.00</td><td>2020-05-15</td><td>Active</td><td>Bangalore</td><td>john.doe@example.com</td></tr><tr><td>3</td><td>Raj</td><td>Kumar</td><td>Engineering</td><td>Data Engineer</td><td>85000.00</td><td>2021-07-01</td><td>Active</td><td>Hyderabad</td><td>raj.kumar@example.com</td></tr><tr><td>6</td><td>Sara</td><td>Ali</td><td>Engineering</td><td>Backend Developer</td><td>78000.00</td><td>2020-09-17</td><td>Active</td><td>Pune</td><td>sara.ali@example.com</td></tr><tr><td>9</td><td>Vikram</td><td>Singh</td><td>Engineering</td><td>DevOps Engineer</td><td>90000.00</td><td>2019-08-19</td><td>Active</td><td>Hyderabad</td><td>vikram.singh@example.com</td></tr></tbody></table></div>"
      ]
     },
     "metadata": {
      "application/vnd.databricks.v1+output": {
       "addedWidgets": {},
       "aggData": [],
       "aggError": "",
       "aggOverflow": false,
       "aggSchema": [],
       "aggSeriesLimitReached": false,
       "aggType": "",
       "arguments": {},
       "columnCustomDisplayInfos": {},
       "data": [
        [
         11,
         "David",
         "Lee",
         "Engineering",
         "Frontend Developer",
         "72000.00",
         "2020-03-11",
         "Active",
         "Chennai",
         "david.lee@example.com"
        ],
        [
         15,
         "Arjun",
         "Nair",
         "Engineering",
         "Data Scientist",
         "98000.00",
         "2021-05-20",
         "Active",
         "Hyderabad",
         "arjun.nair@example.com"
        ],
        [
         17,
         "Robert",
         "King",
         "Engineering",
         "Software Architect",
         "120000.00",
         "2016-09-05",
         "Active",
         "Delhi",
         "robert.king@example.com"
        ],
        [
         20,
         "Ravi",
         "Menon",
         "Engineering",
         "Machine Learning Engineer",
         "93000.00",
         "2019-04-15",
         "Active",
         "Hyderabad",
         "ravi.menon@example.com"
        ],
        [
         24,
         "Karan",
         "Malhotra",
         "Engineering",
         "Tech Lead",
         "105000.00",
         "2017-11-18",
         "Active",
         "Chennai",
         "karan.malhotra@example.com"
        ],
        [
         29,
         "Siddharth",
         "Jain",
         "Engineering",
         "Cloud Engineer",
         "89000.00",
         "2018-06-25",
         "Active",
         "Hyderabad",
         "siddharth.jain@example.com"
        ],
        [
         33,
         "Chris",
         "Evans",
         "Engineering",
         "Security Analyst",
         "94000.00",
         "2020-12-18",
         "Active",
         "Delhi",
         "chris.evans@example.com"
        ],
        [
         35,
         "Shyam",
         "Patil",
         "Engineering",
         "Data Analyst",
         "76000.00",
         "2017-02-15",
         "Active",
         "Hyderabad",
         "shyam.patil@example.com"
        ],
        [
         38,
         "Liam",
         "Martin",
         "Engineering",
         "AI Engineer",
         "115000.00",
         "2019-09-30",
         "Active",
         "Chennai",
         "liam.martin@example.com"
        ],
        [
         39,
         "Diya",
         "Saxena",
         "HR",
         "HRBP",
         "74000.00",
         "2020-02-07",
         "Active",
         "Pune",
         "diya.saxena@example.com"
        ],
        [
         41,
         "Ritika",
         "Mehra",
         "Engineering",
         "Mobile App Developer",
         "77000.00",
         "2018-01-13",
         "Active",
         "Delhi",
         "ritika.mehra@example.com"
        ],
        [
         42,
         "Steve",
         "Jobs",
         "Engineering",
         "Product Manager",
         "125000.00",
         "2015-12-20",
         "Active",
         "Bangalore",
         "steve.jobs@example.com"
        ],
        [
         49,
         "Nina",
         "Shah",
         "Engineering",
         "Systems Engineer",
         "73000.00",
         "2020-06-17",
         "Active",
         "Bangalore",
         "nina.shah@example.com"
        ],
        [
         1,
         "John",
         "Doe",
         "Engineering",
         "Software Engineer",
         "75000.00",
         "2020-05-15",
         "Active",
         "Bangalore",
         "john.doe@example.com"
        ],
        [
         3,
         "Raj",
         "Kumar",
         "Engineering",
         "Data Engineer",
         "85000.00",
         "2021-07-01",
         "Active",
         "Hyderabad",
         "raj.kumar@example.com"
        ],
        [
         6,
         "Sara",
         "Ali",
         "Engineering",
         "Backend Developer",
         "78000.00",
         "2020-09-17",
         "Active",
         "Pune",
         "sara.ali@example.com"
        ],
        [
         9,
         "Vikram",
         "Singh",
         "Engineering",
         "DevOps Engineer",
         "90000.00",
         "2019-08-19",
         "Active",
         "Hyderabad",
         "vikram.singh@example.com"
        ]
       ],
       "datasetInfos": [],
       "dbfsResultPath": null,
       "isJsonSchema": true,
       "metadata": {},
       "overflow": false,
       "plotOptions": {
        "customPlotOptions": {},
        "displayType": "table",
        "pivotAggregation": null,
        "pivotColumns": null,
        "xColumns": null,
        "yColumns": null
       },
       "removedWidgets": [],
       "schema": [
        {
         "metadata": "{}",
         "name": "emp_id",
         "type": "\"integer\""
        },
        {
         "metadata": "{\"__CHAR_VARCHAR_TYPE_STRING\":\"varchar(50)\"}",
         "name": "first_name",
         "type": "\"string\""
        },
        {
         "metadata": "{\"__CHAR_VARCHAR_TYPE_STRING\":\"varchar(50)\"}",
         "name": "last_name",
         "type": "\"string\""
        },
        {
         "metadata": "{\"__CHAR_VARCHAR_TYPE_STRING\":\"varchar(50)\"}",
         "name": "department",
         "type": "\"string\""
        },
        {
         "metadata": "{\"__CHAR_VARCHAR_TYPE_STRING\":\"varchar(50)\"}",
         "name": "job_title",
         "type": "\"string\""
        },
        {
         "metadata": "{}",
         "name": "salary",
         "type": "\"decimal(10,2)\""
        },
        {
         "metadata": "{}",
         "name": "hire_date",
         "type": "\"date\""
        },
        {
         "metadata": "{\"__CHAR_VARCHAR_TYPE_STRING\":\"varchar(20)\"}",
         "name": "status",
         "type": "\"string\""
        },
        {
         "metadata": "{\"__CHAR_VARCHAR_TYPE_STRING\":\"varchar(50)\"}",
         "name": "city",
         "type": "\"string\""
        },
        {
         "metadata": "{\"__CHAR_VARCHAR_TYPE_STRING\":\"varchar(100)\"}",
         "name": "email",
         "type": "\"string\""
        }
       ],
       "type": "table"
      }
     },
     "output_type": "display_data"
    },
    {
     "output_type": "display_data",
     "data": {
      "text/html": [
       "<style scoped>\n",
       "  .table-result-container {\n",
       "    max-height: 300px;\n",
       "    overflow: auto;\n",
       "  }\n",
       "  table, th, td {\n",
       "    border: 1px solid black;\n",
       "    border-collapse: collapse;\n",
       "  }\n",
       "  th, td {\n",
       "    padding: 5px;\n",
       "  }\n",
       "  th {\n",
       "    text-align: left;\n",
       "  }\n",
       "</style><div class='table-result-container'><table class='table-result'><thead style='background-color: white'><tr><th>emp_id</th><th>first_name</th><th>last_name</th><th>department</th><th>job_title</th><th>salary</th><th>hire_date</th><th>status</th><th>city</th><th>email</th></tr></thead><tbody><tr><td>42</td><td>Steve</td><td>Jobs</td><td>Engineering</td><td>Product Manager</td><td>125000.00</td><td>2015-12-20</td><td>Active</td><td>Bangalore</td><td>steve.jobs@example.com</td></tr><tr><td>17</td><td>Robert</td><td>King</td><td>Engineering</td><td>Software Architect</td><td>120000.00</td><td>2016-09-05</td><td>Active</td><td>Delhi</td><td>robert.king@example.com</td></tr><tr><td>19</td><td>Michael</td><td>Scott</td><td>Sales</td><td>Regional Sales Head</td><td>115000.00</td><td>2015-06-20</td><td>Active</td><td>Chennai</td><td>michael.scott@example.com</td></tr><tr><td>38</td><td>Liam</td><td>Martin</td><td>Engineering</td><td>AI Engineer</td><td>115000.00</td><td>2019-09-30</td><td>Active</td><td>Chennai</td><td>liam.martin@example.com</td></tr><tr><td>24</td><td>Karan</td><td>Malhotra</td><td>Engineering</td><td>Tech Lead</td><td>105000.00</td><td>2017-11-18</td><td>Active</td><td>Chennai</td><td>karan.malhotra@example.com</td></tr><tr><td>15</td><td>Arjun</td><td>Nair</td><td>Engineering</td><td>Data Scientist</td><td>98000.00</td><td>2021-05-20</td><td>Active</td><td>Hyderabad</td><td>arjun.nair@example.com</td></tr><tr><td>44</td><td>Dhruv</td><td>Singhania</td><td>Finance</td><td>Risk Manager</td><td>97000.00</td><td>2017-10-14</td><td>Active</td><td>Mumbai</td><td>dhruv.singhania@example.com</td></tr><tr><td>10</td><td>Neha</td><td>Patel</td><td>Sales</td><td>Regional Manager</td><td>95000.00</td><td>2015-04-01</td><td>Active</td><td>Delhi</td><td>neha.patel@example.com</td></tr><tr><td>33</td><td>Chris</td><td>Evans</td><td>Engineering</td><td>Security Analyst</td><td>94000.00</td><td>2020-12-18</td><td>Active</td><td>Delhi</td><td>chris.evans@example.com</td></tr><tr><td>20</td><td>Ravi</td><td>Menon</td><td>Engineering</td><td>Machine Learning Engineer</td><td>93000.00</td><td>2019-04-15</td><td>Active</td><td>Hyderabad</td><td>ravi.menon@example.com</td></tr><tr><td>9</td><td>Vikram</td><td>Singh</td><td>Engineering</td><td>DevOps Engineer</td><td>90000.00</td><td>2019-08-19</td><td>Active</td><td>Hyderabad</td><td>vikram.singh@example.com</td></tr><tr><td>29</td><td>Siddharth</td><td>Jain</td><td>Engineering</td><td>Cloud Engineer</td><td>89000.00</td><td>2018-06-25</td><td>Active</td><td>Hyderabad</td><td>siddharth.jain@example.com</td></tr><tr><td>25</td><td>Sneha</td><td>Reddy</td><td>Sales</td><td>Sales Manager</td><td>88000.00</td><td>2016-02-09</td><td>Active</td><td>Hyderabad</td><td>sneha.reddy@example.com</td></tr><tr><td>37</td><td>Harsh</td><td>Aggarwal</td><td>Finance</td><td>Investment Analyst</td><td>88000.00</td><td>2016-11-28</td><td>Active</td><td>Delhi</td><td>harsh.aggarwal@example.com</td></tr><tr><td>3</td><td>Raj</td><td>Kumar</td><td>Engineering</td><td>Data Engineer</td><td>85000.00</td><td>2021-07-01</td><td>Active</td><td>Hyderabad</td><td>raj.kumar@example.com</td></tr><tr><td>50</td><td>Aria</td><td>Gill</td><td>Marketing</td><td>Advertising Manager</td><td>82000.00</td><td>2017-08-09</td><td>Active</td><td>Mumbai</td><td>aria.gill@example.com</td></tr><tr><td>30</td><td>Olivia</td><td>Brown</td><td>Sales</td><td>Territory Manager</td><td>81000.00</td><td>2017-04-05</td><td>Active</td><td>Mumbai</td><td>olivia.brown@example.com</td></tr><tr><td>6</td><td>Sara</td><td>Ali</td><td>Engineering</td><td>Backend Developer</td><td>78000.00</td><td>2020-09-17</td><td>Active</td><td>Pune</td><td>sara.ali@example.com</td></tr><tr><td>41</td><td>Ritika</td><td>Mehra</td><td>Engineering</td><td>Mobile App Developer</td><td>77000.00</td><td>2018-01-13</td><td>Active</td><td>Delhi</td><td>ritika.mehra@example.com</td></tr><tr><td>35</td><td>Shyam</td><td>Patil</td><td>Engineering</td><td>Data Analyst</td><td>76000.00</td><td>2017-02-15</td><td>Active</td><td>Hyderabad</td><td>shyam.patil@example.com</td></tr><tr><td>1</td><td>John</td><td>Doe</td><td>Engineering</td><td>Software Engineer</td><td>75000.00</td><td>2020-05-15</td><td>Active</td><td>Bangalore</td><td>john.doe@example.com</td></tr><tr><td>27</td><td>Vishal</td><td>Kapoor</td><td>Marketing</td><td>Brand Manager</td><td>75000.00</td><td>2019-03-19</td><td>Active</td><td>Delhi</td><td>vishal.kapoor@example.com</td></tr><tr><td>39</td><td>Diya</td><td>Saxena</td><td>HR</td><td>HRBP</td><td>74000.00</td><td>2020-02-07</td><td>Active</td><td>Pune</td><td>diya.saxena@example.com</td></tr><tr><td>49</td><td>Nina</td><td>Shah</td><td>Engineering</td><td>Systems Engineer</td><td>73000.00</td><td>2020-06-17</td><td>Active</td><td>Bangalore</td><td>nina.shah@example.com</td></tr><tr><td>11</td><td>David</td><td>Lee</td><td>Engineering</td><td>Frontend Developer</td><td>72000.00</td><td>2020-03-11</td><td>Active</td><td>Chennai</td><td>david.lee@example.com</td></tr><tr><td>28</td><td>Emma</td><td>Watson</td><td>Engineering</td><td>QA Engineer</td><td>70000.00</td><td>2020-07-15</td><td>Active</td><td>Bangalore</td><td>emma.watson@example.com</td></tr><tr><td>48</td><td>Parth</td><td>Desai</td><td>Finance</td><td>Treasury Analyst</td><td>70000.00</td><td>2019-12-29</td><td>Active</td><td>Chennai</td><td>parth.desai@example.com</td></tr><tr><td>18</td><td>Meera</td><td>Joshi</td><td>Finance</td><td>Auditor</td><td>69000.00</td><td>2020-12-11</td><td>Active</td><td>Pune</td><td>meera.joshi@example.com</td></tr><tr><td>31</td><td>Nikhil</td><td>Arora</td><td>Finance</td><td>Business Analyst</td><td>68000.00</td><td>2021-03-27</td><td>Active</td><td>Chennai</td><td>nikhil.arora@example.com</td></tr><tr><td>12</td><td>Ananya</td><td>Roy</td><td>Finance</td><td>Financial Analyst</td><td>67000.00</td><td>2019-07-25</td><td>Active</td><td>Pune</td><td>ananya.roy@example.com</td></tr><tr><td>46</td><td>Naveen</td><td>Shetty</td><td>Engineering</td><td>Technical Support Engineer</td><td>66000.00</td><td>2021-01-12</td><td>Active</td><td>Hyderabad</td><td>naveen.shetty@example.com</td></tr><tr><td>2</td><td>Jane</td><td>Smith</td><td>HR</td><td>HR Manager</td><td>65000.00</td><td>2019-03-10</td><td>Active</td><td>Mumbai</td><td>jane.smith@example.com</td></tr><tr><td>22</td><td>Arvind</td><td>Singh</td><td>Finance</td><td>Tax Consultant</td><td>65000.00</td><td>2020-01-25</td><td>Active</td><td>Mumbai</td><td>arvind.singh@example.com</td></tr><tr><td>45</td><td>Rebecca</td><td>Lewis</td><td>Marketing</td><td>PR Specialist</td><td>64000.00</td><td>2019-05-18</td><td>Active</td><td>Pune</td><td>rebecca.lewis@example.com</td></tr><tr><td>34</td><td>Ishita</td><td>Bhatt</td><td>Marketing</td><td>Social Media Manager</td><td>63000.00</td><td>2018-07-21</td><td>Active</td><td>Bangalore</td><td>ishita.bhatt@example.com</td></tr><tr><td>7</td><td>Amit</td><td>Verma</td><td>Finance</td><td>Accountant</td><td>62000.00</td><td>2017-06-30</td><td>Inactive</td><td>Bangalore</td><td>amit.verma@example.com</td></tr><tr><td>16</td><td>Kavita</td><td>Gupta</td><td>HR</td><td>Compensation Analyst</td><td>61000.00</td><td>2017-01-16</td><td>Active</td><td>Mumbai</td><td>kavita.gupta@example.com</td></tr><tr><td>47</td><td>Julia</td><td>Roberts</td><td>HR</td><td>HR Generalist</td><td>61000.00</td><td>2018-09-03</td><td>Active</td><td>Delhi</td><td>julia.roberts@example.com</td></tr><tr><td>4</td><td>Priya</td><td>Sharma</td><td>Marketing</td><td>Marketing Analyst</td><td>60000.00</td><td>2018-11-22</td><td>Active</td><td>Delhi</td><td>priya.sharma@example.com</td></tr><tr><td>26</td><td>George</td><td>Mason</td><td>Finance</td><td>Payroll Specialist</td><td>60000.00</td><td>2022-04-08</td><td>Active</td><td>Pune</td><td>george.mason@example.com</td></tr><tr><td>32</td><td>Ayesha</td><td>Khan</td><td>HR</td><td>Training Specialist</td><td>59000.00</td><td>2019-08-02</td><td>Active</td><td>Pune</td><td>ayesha.khan@example.com</td></tr><tr><td>13</td><td>Sam</td><td>Wilson</td><td>Marketing</td><td>Content Strategist</td><td>58000.00</td><td>2021-11-30</td><td>Active</td><td>Delhi</td><td>sam.wilson@example.com</td></tr><tr><td>40</td><td>Jason</td><td>Taylor</td><td>Marketing</td><td>Market Research Analyst</td><td>58000.00</td><td>2021-06-11</td><td>Active</td><td>Hyderabad</td><td>jason.taylor@example.com</td></tr><tr><td>21</td><td>Tina</td><td>Fernandez</td><td>Marketing</td><td>SEO Specialist</td><td>57000.00</td><td>2018-05-22</td><td>Active</td><td>Delhi</td><td>tina.fernandez@example.com</td></tr><tr><td>43</td><td>Alisha</td><td>Paul</td><td>Sales</td><td>Inside Sales Rep</td><td>56000.00</td><td>2020-04-23</td><td>Active</td><td>Chennai</td><td>alisha.paul@example.com</td></tr><tr><td>5</td><td>Tom</td><td>Brown</td><td>Sales</td><td>Sales Executive</td><td>55000.00</td><td>2022-01-05</td><td>Active</td><td>Chennai</td><td>tom.brown@example.com</td></tr><tr><td>36</td><td>Sophia</td><td>Green</td><td>Sales</td><td>Sales Coordinator</td><td>54000.00</td><td>2022-05-01</td><td>Active</td><td>Mumbai</td><td>sophia.green@example.com</td></tr><tr><td>14</td><td>Pooja</td><td>Das</td><td>Sales</td><td>Sales Associate</td><td>52000.00</td><td>2018-10-02</td><td>Inactive</td><td>Bangalore</td><td>pooja.das@example.com</td></tr><tr><td>8</td><td>Emily</td><td>Clark</td><td>HR</td><td>Recruiter</td><td>50000.00</td><td>2021-02-14</td><td>Active</td><td>Mumbai</td><td>emily.clark@example.com</td></tr><tr><td>23</td><td>Lucy</td><td>Adams</td><td>HR</td><td>HR Coordinator</td><td>48000.00</td><td>2021-09-10</td><td>Active</td><td>Bangalore</td><td>lucy.adams@example.com</td></tr></tbody></table></div>"
      ]
     },
     "metadata": {
      "application/vnd.databricks.v1+output": {
       "addedWidgets": {},
       "aggData": [],
       "aggError": "",
       "aggOverflow": false,
       "aggSchema": [],
       "aggSeriesLimitReached": false,
       "aggType": "",
       "arguments": {},
       "columnCustomDisplayInfos": {},
       "data": [
        [
         42,
         "Steve",
         "Jobs",
         "Engineering",
         "Product Manager",
         "125000.00",
         "2015-12-20",
         "Active",
         "Bangalore",
         "steve.jobs@example.com"
        ],
        [
         17,
         "Robert",
         "King",
         "Engineering",
         "Software Architect",
         "120000.00",
         "2016-09-05",
         "Active",
         "Delhi",
         "robert.king@example.com"
        ],
        [
         19,
         "Michael",
         "Scott",
         "Sales",
         "Regional Sales Head",
         "115000.00",
         "2015-06-20",
         "Active",
         "Chennai",
         "michael.scott@example.com"
        ],
        [
         38,
         "Liam",
         "Martin",
         "Engineering",
         "AI Engineer",
         "115000.00",
         "2019-09-30",
         "Active",
         "Chennai",
         "liam.martin@example.com"
        ],
        [
         24,
         "Karan",
         "Malhotra",
         "Engineering",
         "Tech Lead",
         "105000.00",
         "2017-11-18",
         "Active",
         "Chennai",
         "karan.malhotra@example.com"
        ],
        [
         15,
         "Arjun",
         "Nair",
         "Engineering",
         "Data Scientist",
         "98000.00",
         "2021-05-20",
         "Active",
         "Hyderabad",
         "arjun.nair@example.com"
        ],
        [
         44,
         "Dhruv",
         "Singhania",
         "Finance",
         "Risk Manager",
         "97000.00",
         "2017-10-14",
         "Active",
         "Mumbai",
         "dhruv.singhania@example.com"
        ],
        [
         10,
         "Neha",
         "Patel",
         "Sales",
         "Regional Manager",
         "95000.00",
         "2015-04-01",
         "Active",
         "Delhi",
         "neha.patel@example.com"
        ],
        [
         33,
         "Chris",
         "Evans",
         "Engineering",
         "Security Analyst",
         "94000.00",
         "2020-12-18",
         "Active",
         "Delhi",
         "chris.evans@example.com"
        ],
        [
         20,
         "Ravi",
         "Menon",
         "Engineering",
         "Machine Learning Engineer",
         "93000.00",
         "2019-04-15",
         "Active",
         "Hyderabad",
         "ravi.menon@example.com"
        ],
        [
         9,
         "Vikram",
         "Singh",
         "Engineering",
         "DevOps Engineer",
         "90000.00",
         "2019-08-19",
         "Active",
         "Hyderabad",
         "vikram.singh@example.com"
        ],
        [
         29,
         "Siddharth",
         "Jain",
         "Engineering",
         "Cloud Engineer",
         "89000.00",
         "2018-06-25",
         "Active",
         "Hyderabad",
         "siddharth.jain@example.com"
        ],
        [
         25,
         "Sneha",
         "Reddy",
         "Sales",
         "Sales Manager",
         "88000.00",
         "2016-02-09",
         "Active",
         "Hyderabad",
         "sneha.reddy@example.com"
        ],
        [
         37,
         "Harsh",
         "Aggarwal",
         "Finance",
         "Investment Analyst",
         "88000.00",
         "2016-11-28",
         "Active",
         "Delhi",
         "harsh.aggarwal@example.com"
        ],
        [
         3,
         "Raj",
         "Kumar",
         "Engineering",
         "Data Engineer",
         "85000.00",
         "2021-07-01",
         "Active",
         "Hyderabad",
         "raj.kumar@example.com"
        ],
        [
         50,
         "Aria",
         "Gill",
         "Marketing",
         "Advertising Manager",
         "82000.00",
         "2017-08-09",
         "Active",
         "Mumbai",
         "aria.gill@example.com"
        ],
        [
         30,
         "Olivia",
         "Brown",
         "Sales",
         "Territory Manager",
         "81000.00",
         "2017-04-05",
         "Active",
         "Mumbai",
         "olivia.brown@example.com"
        ],
        [
         6,
         "Sara",
         "Ali",
         "Engineering",
         "Backend Developer",
         "78000.00",
         "2020-09-17",
         "Active",
         "Pune",
         "sara.ali@example.com"
        ],
        [
         41,
         "Ritika",
         "Mehra",
         "Engineering",
         "Mobile App Developer",
         "77000.00",
         "2018-01-13",
         "Active",
         "Delhi",
         "ritika.mehra@example.com"
        ],
        [
         35,
         "Shyam",
         "Patil",
         "Engineering",
         "Data Analyst",
         "76000.00",
         "2017-02-15",
         "Active",
         "Hyderabad",
         "shyam.patil@example.com"
        ],
        [
         1,
         "John",
         "Doe",
         "Engineering",
         "Software Engineer",
         "75000.00",
         "2020-05-15",
         "Active",
         "Bangalore",
         "john.doe@example.com"
        ],
        [
         27,
         "Vishal",
         "Kapoor",
         "Marketing",
         "Brand Manager",
         "75000.00",
         "2019-03-19",
         "Active",
         "Delhi",
         "vishal.kapoor@example.com"
        ],
        [
         39,
         "Diya",
         "Saxena",
         "HR",
         "HRBP",
         "74000.00",
         "2020-02-07",
         "Active",
         "Pune",
         "diya.saxena@example.com"
        ],
        [
         49,
         "Nina",
         "Shah",
         "Engineering",
         "Systems Engineer",
         "73000.00",
         "2020-06-17",
         "Active",
         "Bangalore",
         "nina.shah@example.com"
        ],
        [
         11,
         "David",
         "Lee",
         "Engineering",
         "Frontend Developer",
         "72000.00",
         "2020-03-11",
         "Active",
         "Chennai",
         "david.lee@example.com"
        ],
        [
         28,
         "Emma",
         "Watson",
         "Engineering",
         "QA Engineer",
         "70000.00",
         "2020-07-15",
         "Active",
         "Bangalore",
         "emma.watson@example.com"
        ],
        [
         48,
         "Parth",
         "Desai",
         "Finance",
         "Treasury Analyst",
         "70000.00",
         "2019-12-29",
         "Active",
         "Chennai",
         "parth.desai@example.com"
        ],
        [
         18,
         "Meera",
         "Joshi",
         "Finance",
         "Auditor",
         "69000.00",
         "2020-12-11",
         "Active",
         "Pune",
         "meera.joshi@example.com"
        ],
        [
         31,
         "Nikhil",
         "Arora",
         "Finance",
         "Business Analyst",
         "68000.00",
         "2021-03-27",
         "Active",
         "Chennai",
         "nikhil.arora@example.com"
        ],
        [
         12,
         "Ananya",
         "Roy",
         "Finance",
         "Financial Analyst",
         "67000.00",
         "2019-07-25",
         "Active",
         "Pune",
         "ananya.roy@example.com"
        ],
        [
         46,
         "Naveen",
         "Shetty",
         "Engineering",
         "Technical Support Engineer",
         "66000.00",
         "2021-01-12",
         "Active",
         "Hyderabad",
         "naveen.shetty@example.com"
        ],
        [
         2,
         "Jane",
         "Smith",
         "HR",
         "HR Manager",
         "65000.00",
         "2019-03-10",
         "Active",
         "Mumbai",
         "jane.smith@example.com"
        ],
        [
         22,
         "Arvind",
         "Singh",
         "Finance",
         "Tax Consultant",
         "65000.00",
         "2020-01-25",
         "Active",
         "Mumbai",
         "arvind.singh@example.com"
        ],
        [
         45,
         "Rebecca",
         "Lewis",
         "Marketing",
         "PR Specialist",
         "64000.00",
         "2019-05-18",
         "Active",
         "Pune",
         "rebecca.lewis@example.com"
        ],
        [
         34,
         "Ishita",
         "Bhatt",
         "Marketing",
         "Social Media Manager",
         "63000.00",
         "2018-07-21",
         "Active",
         "Bangalore",
         "ishita.bhatt@example.com"
        ],
        [
         7,
         "Amit",
         "Verma",
         "Finance",
         "Accountant",
         "62000.00",
         "2017-06-30",
         "Inactive",
         "Bangalore",
         "amit.verma@example.com"
        ],
        [
         16,
         "Kavita",
         "Gupta",
         "HR",
         "Compensation Analyst",
         "61000.00",
         "2017-01-16",
         "Active",
         "Mumbai",
         "kavita.gupta@example.com"
        ],
        [
         47,
         "Julia",
         "Roberts",
         "HR",
         "HR Generalist",
         "61000.00",
         "2018-09-03",
         "Active",
         "Delhi",
         "julia.roberts@example.com"
        ],
        [
         4,
         "Priya",
         "Sharma",
         "Marketing",
         "Marketing Analyst",
         "60000.00",
         "2018-11-22",
         "Active",
         "Delhi",
         "priya.sharma@example.com"
        ],
        [
         26,
         "George",
         "Mason",
         "Finance",
         "Payroll Specialist",
         "60000.00",
         "2022-04-08",
         "Active",
         "Pune",
         "george.mason@example.com"
        ],
        [
         32,
         "Ayesha",
         "Khan",
         "HR",
         "Training Specialist",
         "59000.00",
         "2019-08-02",
         "Active",
         "Pune",
         "ayesha.khan@example.com"
        ],
        [
         13,
         "Sam",
         "Wilson",
         "Marketing",
         "Content Strategist",
         "58000.00",
         "2021-11-30",
         "Active",
         "Delhi",
         "sam.wilson@example.com"
        ],
        [
         40,
         "Jason",
         "Taylor",
         "Marketing",
         "Market Research Analyst",
         "58000.00",
         "2021-06-11",
         "Active",
         "Hyderabad",
         "jason.taylor@example.com"
        ],
        [
         21,
         "Tina",
         "Fernandez",
         "Marketing",
         "SEO Specialist",
         "57000.00",
         "2018-05-22",
         "Active",
         "Delhi",
         "tina.fernandez@example.com"
        ],
        [
         43,
         "Alisha",
         "Paul",
         "Sales",
         "Inside Sales Rep",
         "56000.00",
         "2020-04-23",
         "Active",
         "Chennai",
         "alisha.paul@example.com"
        ],
        [
         5,
         "Tom",
         "Brown",
         "Sales",
         "Sales Executive",
         "55000.00",
         "2022-01-05",
         "Active",
         "Chennai",
         "tom.brown@example.com"
        ],
        [
         36,
         "Sophia",
         "Green",
         "Sales",
         "Sales Coordinator",
         "54000.00",
         "2022-05-01",
         "Active",
         "Mumbai",
         "sophia.green@example.com"
        ],
        [
         14,
         "Pooja",
         "Das",
         "Sales",
         "Sales Associate",
         "52000.00",
         "2018-10-02",
         "Inactive",
         "Bangalore",
         "pooja.das@example.com"
        ],
        [
         8,
         "Emily",
         "Clark",
         "HR",
         "Recruiter",
         "50000.00",
         "2021-02-14",
         "Active",
         "Mumbai",
         "emily.clark@example.com"
        ],
        [
         23,
         "Lucy",
         "Adams",
         "HR",
         "HR Coordinator",
         "48000.00",
         "2021-09-10",
         "Active",
         "Bangalore",
         "lucy.adams@example.com"
        ]
       ],
       "datasetInfos": [],
       "dbfsResultPath": null,
       "isJsonSchema": true,
       "metadata": {},
       "overflow": false,
       "plotOptions": {
        "customPlotOptions": {},
        "displayType": "table",
        "pivotAggregation": null,
        "pivotColumns": null,
        "xColumns": null,
        "yColumns": null
       },
       "removedWidgets": [],
       "schema": [
        {
         "metadata": "{}",
         "name": "emp_id",
         "type": "\"integer\""
        },
        {
         "metadata": "{\"__CHAR_VARCHAR_TYPE_STRING\":\"varchar(50)\"}",
         "name": "first_name",
         "type": "\"string\""
        },
        {
         "metadata": "{\"__CHAR_VARCHAR_TYPE_STRING\":\"varchar(50)\"}",
         "name": "last_name",
         "type": "\"string\""
        },
        {
         "metadata": "{\"__CHAR_VARCHAR_TYPE_STRING\":\"varchar(50)\"}",
         "name": "department",
         "type": "\"string\""
        },
        {
         "metadata": "{\"__CHAR_VARCHAR_TYPE_STRING\":\"varchar(50)\"}",
         "name": "job_title",
         "type": "\"string\""
        },
        {
         "metadata": "{}",
         "name": "salary",
         "type": "\"decimal(10,2)\""
        },
        {
         "metadata": "{}",
         "name": "hire_date",
         "type": "\"date\""
        },
        {
         "metadata": "{\"__CHAR_VARCHAR_TYPE_STRING\":\"varchar(20)\"}",
         "name": "status",
         "type": "\"string\""
        },
        {
         "metadata": "{\"__CHAR_VARCHAR_TYPE_STRING\":\"varchar(50)\"}",
         "name": "city",
         "type": "\"string\""
        },
        {
         "metadata": "{\"__CHAR_VARCHAR_TYPE_STRING\":\"varchar(100)\"}",
         "name": "email",
         "type": "\"string\""
        }
       ],
       "type": "table"
      }
     },
     "output_type": "display_data"
    },
    {
     "output_type": "display_data",
     "data": {
      "text/html": [
       "<style scoped>\n",
       "  .table-result-container {\n",
       "    max-height: 300px;\n",
       "    overflow: auto;\n",
       "  }\n",
       "  table, th, td {\n",
       "    border: 1px solid black;\n",
       "    border-collapse: collapse;\n",
       "  }\n",
       "  th, td {\n",
       "    padding: 5px;\n",
       "  }\n",
       "  th {\n",
       "    text-align: left;\n",
       "  }\n",
       "</style><div class='table-result-container'><table class='table-result'><thead style='background-color: white'><tr><th>emp_id</th><th>first_name</th><th>last_name</th><th>department</th><th>job_title</th><th>salary</th><th>hire_date</th><th>status</th><th>city</th><th>email</th></tr></thead><tbody><tr><td>43</td><td>Alisha</td><td>Paul</td><td>Sales</td><td>Inside Sales Rep</td><td>56000.00</td><td>2020-04-23</td><td>Active</td><td>Chennai</td><td>alisha.paul@example.com</td></tr><tr><td>19</td><td>Michael</td><td>Scott</td><td>Sales</td><td>Regional Sales Head</td><td>115000.00</td><td>2015-06-20</td><td>Active</td><td>Chennai</td><td>michael.scott@example.com</td></tr><tr><td>10</td><td>Neha</td><td>Patel</td><td>Sales</td><td>Regional Manager</td><td>95000.00</td><td>2015-04-01</td><td>Active</td><td>Delhi</td><td>neha.patel@example.com</td></tr><tr><td>30</td><td>Olivia</td><td>Brown</td><td>Sales</td><td>Territory Manager</td><td>81000.00</td><td>2017-04-05</td><td>Active</td><td>Mumbai</td><td>olivia.brown@example.com</td></tr><tr><td>14</td><td>Pooja</td><td>Das</td><td>Sales</td><td>Sales Associate</td><td>52000.00</td><td>2018-10-02</td><td>Inactive</td><td>Bangalore</td><td>pooja.das@example.com</td></tr><tr><td>25</td><td>Sneha</td><td>Reddy</td><td>Sales</td><td>Sales Manager</td><td>88000.00</td><td>2016-02-09</td><td>Active</td><td>Hyderabad</td><td>sneha.reddy@example.com</td></tr><tr><td>36</td><td>Sophia</td><td>Green</td><td>Sales</td><td>Sales Coordinator</td><td>54000.00</td><td>2022-05-01</td><td>Active</td><td>Mumbai</td><td>sophia.green@example.com</td></tr><tr><td>5</td><td>Tom</td><td>Brown</td><td>Sales</td><td>Sales Executive</td><td>55000.00</td><td>2022-01-05</td><td>Active</td><td>Chennai</td><td>tom.brown@example.com</td></tr><tr><td>50</td><td>Aria</td><td>Gill</td><td>Marketing</td><td>Advertising Manager</td><td>82000.00</td><td>2017-08-09</td><td>Active</td><td>Mumbai</td><td>aria.gill@example.com</td></tr><tr><td>34</td><td>Ishita</td><td>Bhatt</td><td>Marketing</td><td>Social Media Manager</td><td>63000.00</td><td>2018-07-21</td><td>Active</td><td>Bangalore</td><td>ishita.bhatt@example.com</td></tr><tr><td>40</td><td>Jason</td><td>Taylor</td><td>Marketing</td><td>Market Research Analyst</td><td>58000.00</td><td>2021-06-11</td><td>Active</td><td>Hyderabad</td><td>jason.taylor@example.com</td></tr><tr><td>4</td><td>Priya</td><td>Sharma</td><td>Marketing</td><td>Marketing Analyst</td><td>60000.00</td><td>2018-11-22</td><td>Active</td><td>Delhi</td><td>priya.sharma@example.com</td></tr><tr><td>45</td><td>Rebecca</td><td>Lewis</td><td>Marketing</td><td>PR Specialist</td><td>64000.00</td><td>2019-05-18</td><td>Active</td><td>Pune</td><td>rebecca.lewis@example.com</td></tr><tr><td>13</td><td>Sam</td><td>Wilson</td><td>Marketing</td><td>Content Strategist</td><td>58000.00</td><td>2021-11-30</td><td>Active</td><td>Delhi</td><td>sam.wilson@example.com</td></tr><tr><td>21</td><td>Tina</td><td>Fernandez</td><td>Marketing</td><td>SEO Specialist</td><td>57000.00</td><td>2018-05-22</td><td>Active</td><td>Delhi</td><td>tina.fernandez@example.com</td></tr><tr><td>27</td><td>Vishal</td><td>Kapoor</td><td>Marketing</td><td>Brand Manager</td><td>75000.00</td><td>2019-03-19</td><td>Active</td><td>Delhi</td><td>vishal.kapoor@example.com</td></tr><tr><td>32</td><td>Ayesha</td><td>Khan</td><td>HR</td><td>Training Specialist</td><td>59000.00</td><td>2019-08-02</td><td>Active</td><td>Pune</td><td>ayesha.khan@example.com</td></tr><tr><td>39</td><td>Diya</td><td>Saxena</td><td>HR</td><td>HRBP</td><td>74000.00</td><td>2020-02-07</td><td>Active</td><td>Pune</td><td>diya.saxena@example.com</td></tr><tr><td>8</td><td>Emily</td><td>Clark</td><td>HR</td><td>Recruiter</td><td>50000.00</td><td>2021-02-14</td><td>Active</td><td>Mumbai</td><td>emily.clark@example.com</td></tr><tr><td>2</td><td>Jane</td><td>Smith</td><td>HR</td><td>HR Manager</td><td>65000.00</td><td>2019-03-10</td><td>Active</td><td>Mumbai</td><td>jane.smith@example.com</td></tr><tr><td>47</td><td>Julia</td><td>Roberts</td><td>HR</td><td>HR Generalist</td><td>61000.00</td><td>2018-09-03</td><td>Active</td><td>Delhi</td><td>julia.roberts@example.com</td></tr><tr><td>16</td><td>Kavita</td><td>Gupta</td><td>HR</td><td>Compensation Analyst</td><td>61000.00</td><td>2017-01-16</td><td>Active</td><td>Mumbai</td><td>kavita.gupta@example.com</td></tr><tr><td>23</td><td>Lucy</td><td>Adams</td><td>HR</td><td>HR Coordinator</td><td>48000.00</td><td>2021-09-10</td><td>Active</td><td>Bangalore</td><td>lucy.adams@example.com</td></tr><tr><td>7</td><td>Amit</td><td>Verma</td><td>Finance</td><td>Accountant</td><td>62000.00</td><td>2017-06-30</td><td>Inactive</td><td>Bangalore</td><td>amit.verma@example.com</td></tr><tr><td>12</td><td>Ananya</td><td>Roy</td><td>Finance</td><td>Financial Analyst</td><td>67000.00</td><td>2019-07-25</td><td>Active</td><td>Pune</td><td>ananya.roy@example.com</td></tr><tr><td>22</td><td>Arvind</td><td>Singh</td><td>Finance</td><td>Tax Consultant</td><td>65000.00</td><td>2020-01-25</td><td>Active</td><td>Mumbai</td><td>arvind.singh@example.com</td></tr><tr><td>44</td><td>Dhruv</td><td>Singhania</td><td>Finance</td><td>Risk Manager</td><td>97000.00</td><td>2017-10-14</td><td>Active</td><td>Mumbai</td><td>dhruv.singhania@example.com</td></tr><tr><td>26</td><td>George</td><td>Mason</td><td>Finance</td><td>Payroll Specialist</td><td>60000.00</td><td>2022-04-08</td><td>Active</td><td>Pune</td><td>george.mason@example.com</td></tr><tr><td>37</td><td>Harsh</td><td>Aggarwal</td><td>Finance</td><td>Investment Analyst</td><td>88000.00</td><td>2016-11-28</td><td>Active</td><td>Delhi</td><td>harsh.aggarwal@example.com</td></tr><tr><td>18</td><td>Meera</td><td>Joshi</td><td>Finance</td><td>Auditor</td><td>69000.00</td><td>2020-12-11</td><td>Active</td><td>Pune</td><td>meera.joshi@example.com</td></tr><tr><td>31</td><td>Nikhil</td><td>Arora</td><td>Finance</td><td>Business Analyst</td><td>68000.00</td><td>2021-03-27</td><td>Active</td><td>Chennai</td><td>nikhil.arora@example.com</td></tr><tr><td>48</td><td>Parth</td><td>Desai</td><td>Finance</td><td>Treasury Analyst</td><td>70000.00</td><td>2019-12-29</td><td>Active</td><td>Chennai</td><td>parth.desai@example.com</td></tr><tr><td>15</td><td>Arjun</td><td>Nair</td><td>Engineering</td><td>Data Scientist</td><td>98000.00</td><td>2021-05-20</td><td>Active</td><td>Hyderabad</td><td>arjun.nair@example.com</td></tr><tr><td>33</td><td>Chris</td><td>Evans</td><td>Engineering</td><td>Security Analyst</td><td>94000.00</td><td>2020-12-18</td><td>Active</td><td>Delhi</td><td>chris.evans@example.com</td></tr><tr><td>11</td><td>David</td><td>Lee</td><td>Engineering</td><td>Frontend Developer</td><td>72000.00</td><td>2020-03-11</td><td>Active</td><td>Chennai</td><td>david.lee@example.com</td></tr><tr><td>28</td><td>Emma</td><td>Watson</td><td>Engineering</td><td>QA Engineer</td><td>70000.00</td><td>2020-07-15</td><td>Active</td><td>Bangalore</td><td>emma.watson@example.com</td></tr><tr><td>1</td><td>John</td><td>Doe</td><td>Engineering</td><td>Software Engineer</td><td>75000.00</td><td>2020-05-15</td><td>Active</td><td>Bangalore</td><td>john.doe@example.com</td></tr><tr><td>24</td><td>Karan</td><td>Malhotra</td><td>Engineering</td><td>Tech Lead</td><td>105000.00</td><td>2017-11-18</td><td>Active</td><td>Chennai</td><td>karan.malhotra@example.com</td></tr><tr><td>38</td><td>Liam</td><td>Martin</td><td>Engineering</td><td>AI Engineer</td><td>115000.00</td><td>2019-09-30</td><td>Active</td><td>Chennai</td><td>liam.martin@example.com</td></tr><tr><td>46</td><td>Naveen</td><td>Shetty</td><td>Engineering</td><td>Technical Support Engineer</td><td>66000.00</td><td>2021-01-12</td><td>Active</td><td>Hyderabad</td><td>naveen.shetty@example.com</td></tr><tr><td>49</td><td>Nina</td><td>Shah</td><td>Engineering</td><td>Systems Engineer</td><td>73000.00</td><td>2020-06-17</td><td>Active</td><td>Bangalore</td><td>nina.shah@example.com</td></tr><tr><td>3</td><td>Raj</td><td>Kumar</td><td>Engineering</td><td>Data Engineer</td><td>85000.00</td><td>2021-07-01</td><td>Active</td><td>Hyderabad</td><td>raj.kumar@example.com</td></tr><tr><td>20</td><td>Ravi</td><td>Menon</td><td>Engineering</td><td>Machine Learning Engineer</td><td>93000.00</td><td>2019-04-15</td><td>Active</td><td>Hyderabad</td><td>ravi.menon@example.com</td></tr><tr><td>41</td><td>Ritika</td><td>Mehra</td><td>Engineering</td><td>Mobile App Developer</td><td>77000.00</td><td>2018-01-13</td><td>Active</td><td>Delhi</td><td>ritika.mehra@example.com</td></tr><tr><td>17</td><td>Robert</td><td>King</td><td>Engineering</td><td>Software Architect</td><td>120000.00</td><td>2016-09-05</td><td>Active</td><td>Delhi</td><td>robert.king@example.com</td></tr><tr><td>6</td><td>Sara</td><td>Ali</td><td>Engineering</td><td>Backend Developer</td><td>78000.00</td><td>2020-09-17</td><td>Active</td><td>Pune</td><td>sara.ali@example.com</td></tr><tr><td>35</td><td>Shyam</td><td>Patil</td><td>Engineering</td><td>Data Analyst</td><td>76000.00</td><td>2017-02-15</td><td>Active</td><td>Hyderabad</td><td>shyam.patil@example.com</td></tr><tr><td>29</td><td>Siddharth</td><td>Jain</td><td>Engineering</td><td>Cloud Engineer</td><td>89000.00</td><td>2018-06-25</td><td>Active</td><td>Hyderabad</td><td>siddharth.jain@example.com</td></tr><tr><td>42</td><td>Steve</td><td>Jobs</td><td>Engineering</td><td>Product Manager</td><td>125000.00</td><td>2015-12-20</td><td>Active</td><td>Bangalore</td><td>steve.jobs@example.com</td></tr><tr><td>9</td><td>Vikram</td><td>Singh</td><td>Engineering</td><td>DevOps Engineer</td><td>90000.00</td><td>2019-08-19</td><td>Active</td><td>Hyderabad</td><td>vikram.singh@example.com</td></tr></tbody></table></div>"
      ]
     },
     "metadata": {
      "application/vnd.databricks.v1+output": {
       "addedWidgets": {},
       "aggData": [],
       "aggError": "",
       "aggOverflow": false,
       "aggSchema": [],
       "aggSeriesLimitReached": false,
       "aggType": "",
       "arguments": {},
       "columnCustomDisplayInfos": {},
       "data": [
        [
         43,
         "Alisha",
         "Paul",
         "Sales",
         "Inside Sales Rep",
         "56000.00",
         "2020-04-23",
         "Active",
         "Chennai",
         "alisha.paul@example.com"
        ],
        [
         19,
         "Michael",
         "Scott",
         "Sales",
         "Regional Sales Head",
         "115000.00",
         "2015-06-20",
         "Active",
         "Chennai",
         "michael.scott@example.com"
        ],
        [
         10,
         "Neha",
         "Patel",
         "Sales",
         "Regional Manager",
         "95000.00",
         "2015-04-01",
         "Active",
         "Delhi",
         "neha.patel@example.com"
        ],
        [
         30,
         "Olivia",
         "Brown",
         "Sales",
         "Territory Manager",
         "81000.00",
         "2017-04-05",
         "Active",
         "Mumbai",
         "olivia.brown@example.com"
        ],
        [
         14,
         "Pooja",
         "Das",
         "Sales",
         "Sales Associate",
         "52000.00",
         "2018-10-02",
         "Inactive",
         "Bangalore",
         "pooja.das@example.com"
        ],
        [
         25,
         "Sneha",
         "Reddy",
         "Sales",
         "Sales Manager",
         "88000.00",
         "2016-02-09",
         "Active",
         "Hyderabad",
         "sneha.reddy@example.com"
        ],
        [
         36,
         "Sophia",
         "Green",
         "Sales",
         "Sales Coordinator",
         "54000.00",
         "2022-05-01",
         "Active",
         "Mumbai",
         "sophia.green@example.com"
        ],
        [
         5,
         "Tom",
         "Brown",
         "Sales",
         "Sales Executive",
         "55000.00",
         "2022-01-05",
         "Active",
         "Chennai",
         "tom.brown@example.com"
        ],
        [
         50,
         "Aria",
         "Gill",
         "Marketing",
         "Advertising Manager",
         "82000.00",
         "2017-08-09",
         "Active",
         "Mumbai",
         "aria.gill@example.com"
        ],
        [
         34,
         "Ishita",
         "Bhatt",
         "Marketing",
         "Social Media Manager",
         "63000.00",
         "2018-07-21",
         "Active",
         "Bangalore",
         "ishita.bhatt@example.com"
        ],
        [
         40,
         "Jason",
         "Taylor",
         "Marketing",
         "Market Research Analyst",
         "58000.00",
         "2021-06-11",
         "Active",
         "Hyderabad",
         "jason.taylor@example.com"
        ],
        [
         4,
         "Priya",
         "Sharma",
         "Marketing",
         "Marketing Analyst",
         "60000.00",
         "2018-11-22",
         "Active",
         "Delhi",
         "priya.sharma@example.com"
        ],
        [
         45,
         "Rebecca",
         "Lewis",
         "Marketing",
         "PR Specialist",
         "64000.00",
         "2019-05-18",
         "Active",
         "Pune",
         "rebecca.lewis@example.com"
        ],
        [
         13,
         "Sam",
         "Wilson",
         "Marketing",
         "Content Strategist",
         "58000.00",
         "2021-11-30",
         "Active",
         "Delhi",
         "sam.wilson@example.com"
        ],
        [
         21,
         "Tina",
         "Fernandez",
         "Marketing",
         "SEO Specialist",
         "57000.00",
         "2018-05-22",
         "Active",
         "Delhi",
         "tina.fernandez@example.com"
        ],
        [
         27,
         "Vishal",
         "Kapoor",
         "Marketing",
         "Brand Manager",
         "75000.00",
         "2019-03-19",
         "Active",
         "Delhi",
         "vishal.kapoor@example.com"
        ],
        [
         32,
         "Ayesha",
         "Khan",
         "HR",
         "Training Specialist",
         "59000.00",
         "2019-08-02",
         "Active",
         "Pune",
         "ayesha.khan@example.com"
        ],
        [
         39,
         "Diya",
         "Saxena",
         "HR",
         "HRBP",
         "74000.00",
         "2020-02-07",
         "Active",
         "Pune",
         "diya.saxena@example.com"
        ],
        [
         8,
         "Emily",
         "Clark",
         "HR",
         "Recruiter",
         "50000.00",
         "2021-02-14",
         "Active",
         "Mumbai",
         "emily.clark@example.com"
        ],
        [
         2,
         "Jane",
         "Smith",
         "HR",
         "HR Manager",
         "65000.00",
         "2019-03-10",
         "Active",
         "Mumbai",
         "jane.smith@example.com"
        ],
        [
         47,
         "Julia",
         "Roberts",
         "HR",
         "HR Generalist",
         "61000.00",
         "2018-09-03",
         "Active",
         "Delhi",
         "julia.roberts@example.com"
        ],
        [
         16,
         "Kavita",
         "Gupta",
         "HR",
         "Compensation Analyst",
         "61000.00",
         "2017-01-16",
         "Active",
         "Mumbai",
         "kavita.gupta@example.com"
        ],
        [
         23,
         "Lucy",
         "Adams",
         "HR",
         "HR Coordinator",
         "48000.00",
         "2021-09-10",
         "Active",
         "Bangalore",
         "lucy.adams@example.com"
        ],
        [
         7,
         "Amit",
         "Verma",
         "Finance",
         "Accountant",
         "62000.00",
         "2017-06-30",
         "Inactive",
         "Bangalore",
         "amit.verma@example.com"
        ],
        [
         12,
         "Ananya",
         "Roy",
         "Finance",
         "Financial Analyst",
         "67000.00",
         "2019-07-25",
         "Active",
         "Pune",
         "ananya.roy@example.com"
        ],
        [
         22,
         "Arvind",
         "Singh",
         "Finance",
         "Tax Consultant",
         "65000.00",
         "2020-01-25",
         "Active",
         "Mumbai",
         "arvind.singh@example.com"
        ],
        [
         44,
         "Dhruv",
         "Singhania",
         "Finance",
         "Risk Manager",
         "97000.00",
         "2017-10-14",
         "Active",
         "Mumbai",
         "dhruv.singhania@example.com"
        ],
        [
         26,
         "George",
         "Mason",
         "Finance",
         "Payroll Specialist",
         "60000.00",
         "2022-04-08",
         "Active",
         "Pune",
         "george.mason@example.com"
        ],
        [
         37,
         "Harsh",
         "Aggarwal",
         "Finance",
         "Investment Analyst",
         "88000.00",
         "2016-11-28",
         "Active",
         "Delhi",
         "harsh.aggarwal@example.com"
        ],
        [
         18,
         "Meera",
         "Joshi",
         "Finance",
         "Auditor",
         "69000.00",
         "2020-12-11",
         "Active",
         "Pune",
         "meera.joshi@example.com"
        ],
        [
         31,
         "Nikhil",
         "Arora",
         "Finance",
         "Business Analyst",
         "68000.00",
         "2021-03-27",
         "Active",
         "Chennai",
         "nikhil.arora@example.com"
        ],
        [
         48,
         "Parth",
         "Desai",
         "Finance",
         "Treasury Analyst",
         "70000.00",
         "2019-12-29",
         "Active",
         "Chennai",
         "parth.desai@example.com"
        ],
        [
         15,
         "Arjun",
         "Nair",
         "Engineering",
         "Data Scientist",
         "98000.00",
         "2021-05-20",
         "Active",
         "Hyderabad",
         "arjun.nair@example.com"
        ],
        [
         33,
         "Chris",
         "Evans",
         "Engineering",
         "Security Analyst",
         "94000.00",
         "2020-12-18",
         "Active",
         "Delhi",
         "chris.evans@example.com"
        ],
        [
         11,
         "David",
         "Lee",
         "Engineering",
         "Frontend Developer",
         "72000.00",
         "2020-03-11",
         "Active",
         "Chennai",
         "david.lee@example.com"
        ],
        [
         28,
         "Emma",
         "Watson",
         "Engineering",
         "QA Engineer",
         "70000.00",
         "2020-07-15",
         "Active",
         "Bangalore",
         "emma.watson@example.com"
        ],
        [
         1,
         "John",
         "Doe",
         "Engineering",
         "Software Engineer",
         "75000.00",
         "2020-05-15",
         "Active",
         "Bangalore",
         "john.doe@example.com"
        ],
        [
         24,
         "Karan",
         "Malhotra",
         "Engineering",
         "Tech Lead",
         "105000.00",
         "2017-11-18",
         "Active",
         "Chennai",
         "karan.malhotra@example.com"
        ],
        [
         38,
         "Liam",
         "Martin",
         "Engineering",
         "AI Engineer",
         "115000.00",
         "2019-09-30",
         "Active",
         "Chennai",
         "liam.martin@example.com"
        ],
        [
         46,
         "Naveen",
         "Shetty",
         "Engineering",
         "Technical Support Engineer",
         "66000.00",
         "2021-01-12",
         "Active",
         "Hyderabad",
         "naveen.shetty@example.com"
        ],
        [
         49,
         "Nina",
         "Shah",
         "Engineering",
         "Systems Engineer",
         "73000.00",
         "2020-06-17",
         "Active",
         "Bangalore",
         "nina.shah@example.com"
        ],
        [
         3,
         "Raj",
         "Kumar",
         "Engineering",
         "Data Engineer",
         "85000.00",
         "2021-07-01",
         "Active",
         "Hyderabad",
         "raj.kumar@example.com"
        ],
        [
         20,
         "Ravi",
         "Menon",
         "Engineering",
         "Machine Learning Engineer",
         "93000.00",
         "2019-04-15",
         "Active",
         "Hyderabad",
         "ravi.menon@example.com"
        ],
        [
         41,
         "Ritika",
         "Mehra",
         "Engineering",
         "Mobile App Developer",
         "77000.00",
         "2018-01-13",
         "Active",
         "Delhi",
         "ritika.mehra@example.com"
        ],
        [
         17,
         "Robert",
         "King",
         "Engineering",
         "Software Architect",
         "120000.00",
         "2016-09-05",
         "Active",
         "Delhi",
         "robert.king@example.com"
        ],
        [
         6,
         "Sara",
         "Ali",
         "Engineering",
         "Backend Developer",
         "78000.00",
         "2020-09-17",
         "Active",
         "Pune",
         "sara.ali@example.com"
        ],
        [
         35,
         "Shyam",
         "Patil",
         "Engineering",
         "Data Analyst",
         "76000.00",
         "2017-02-15",
         "Active",
         "Hyderabad",
         "shyam.patil@example.com"
        ],
        [
         29,
         "Siddharth",
         "Jain",
         "Engineering",
         "Cloud Engineer",
         "89000.00",
         "2018-06-25",
         "Active",
         "Hyderabad",
         "siddharth.jain@example.com"
        ],
        [
         42,
         "Steve",
         "Jobs",
         "Engineering",
         "Product Manager",
         "125000.00",
         "2015-12-20",
         "Active",
         "Bangalore",
         "steve.jobs@example.com"
        ],
        [
         9,
         "Vikram",
         "Singh",
         "Engineering",
         "DevOps Engineer",
         "90000.00",
         "2019-08-19",
         "Active",
         "Hyderabad",
         "vikram.singh@example.com"
        ]
       ],
       "datasetInfos": [],
       "dbfsResultPath": null,
       "isJsonSchema": true,
       "metadata": {},
       "overflow": false,
       "plotOptions": {
        "customPlotOptions": {},
        "displayType": "table",
        "pivotAggregation": null,
        "pivotColumns": null,
        "xColumns": null,
        "yColumns": null
       },
       "removedWidgets": [],
       "schema": [
        {
         "metadata": "{}",
         "name": "emp_id",
         "type": "\"integer\""
        },
        {
         "metadata": "{\"__CHAR_VARCHAR_TYPE_STRING\":\"varchar(50)\"}",
         "name": "first_name",
         "type": "\"string\""
        },
        {
         "metadata": "{\"__CHAR_VARCHAR_TYPE_STRING\":\"varchar(50)\"}",
         "name": "last_name",
         "type": "\"string\""
        },
        {
         "metadata": "{\"__CHAR_VARCHAR_TYPE_STRING\":\"varchar(50)\"}",
         "name": "department",
         "type": "\"string\""
        },
        {
         "metadata": "{\"__CHAR_VARCHAR_TYPE_STRING\":\"varchar(50)\"}",
         "name": "job_title",
         "type": "\"string\""
        },
        {
         "metadata": "{}",
         "name": "salary",
         "type": "\"decimal(10,2)\""
        },
        {
         "metadata": "{}",
         "name": "hire_date",
         "type": "\"date\""
        },
        {
         "metadata": "{\"__CHAR_VARCHAR_TYPE_STRING\":\"varchar(20)\"}",
         "name": "status",
         "type": "\"string\""
        },
        {
         "metadata": "{\"__CHAR_VARCHAR_TYPE_STRING\":\"varchar(50)\"}",
         "name": "city",
         "type": "\"string\""
        },
        {
         "metadata": "{\"__CHAR_VARCHAR_TYPE_STRING\":\"varchar(100)\"}",
         "name": "email",
         "type": "\"string\""
        }
       ],
       "type": "table"
      }
     },
     "output_type": "display_data"
    }
   ],
   "source": [
    "queries = [\n",
    "    \"select emp_id,first_name,salary from employees where salary > 100000\",\n",
    "    \"SELECT * from employees where   department in ('Engineering','HR') and salary>70000\",\n",
    "    \"select * from employees order by salary desc\",\n",
    "    \"select * from employees order by department desc, first_name asc , salary desc\",\n",
    "]\n",
    "\n",
    "for query in queries:\n",
    "    display(spark.sql(query))\n"
   ]
  },
  {
   "cell_type": "code",
   "execution_count": 0,
   "metadata": {
    "application/vnd.databricks.v1+cell": {
     "cellMetadata": {
      "byteLimit": 2048000,
      "implicitDf": true,
      "rowLimit": 10000
     },
     "collapsed": true,
     "inputWidgets": {},
     "nuid": "07c9e527-a87b-4460-9b74-61e061c78358",
     "showTitle": false,
     "tableResultSettingsMap": {},
     "title": ""
    }
   },
   "outputs": [
    {
     "output_type": "display_data",
     "data": {
      "text/html": [
       "<style scoped>\n",
       "  .table-result-container {\n",
       "    max-height: 300px;\n",
       "    overflow: auto;\n",
       "  }\n",
       "  table, th, td {\n",
       "    border: 1px solid black;\n",
       "    border-collapse: collapse;\n",
       "  }\n",
       "  th, td {\n",
       "    padding: 5px;\n",
       "  }\n",
       "  th {\n",
       "    text-align: left;\n",
       "  }\n",
       "</style><div class='table-result-container'><table class='table-result'><thead style='background-color: white'><tr><th>emp_id</th><th>first_name</th><th>last_name</th><th>department</th><th>job_title</th><th>salary</th><th>hire_date</th><th>status</th><th>city</th><th>email</th></tr></thead><tbody><tr><td>17</td><td>Robert</td><td>King</td><td>Engineering</td><td>Software Architect</td><td>120000.00</td><td>2016-09-05</td><td>Active</td><td>Delhi</td><td>robert.king@example.com</td></tr></tbody></table></div>"
      ]
     },
     "metadata": {
      "application/vnd.databricks.v1+output": {
       "addedWidgets": {},
       "aggData": [],
       "aggError": "",
       "aggOverflow": false,
       "aggSchema": [],
       "aggSeriesLimitReached": false,
       "aggType": "",
       "arguments": {},
       "columnCustomDisplayInfos": {},
       "data": [
        [
         17,
         "Robert",
         "King",
         "Engineering",
         "Software Architect",
         "120000.00",
         "2016-09-05",
         "Active",
         "Delhi",
         "robert.king@example.com"
        ]
       ],
       "datasetInfos": [],
       "dbfsResultPath": null,
       "isJsonSchema": true,
       "metadata": {},
       "overflow": false,
       "plotOptions": {
        "customPlotOptions": {},
        "displayType": "table",
        "pivotAggregation": null,
        "pivotColumns": null,
        "xColumns": null,
        "yColumns": null
       },
       "removedWidgets": [],
       "schema": [
        {
         "metadata": "{}",
         "name": "emp_id",
         "type": "\"integer\""
        },
        {
         "metadata": "{\"__CHAR_VARCHAR_TYPE_STRING\":\"varchar(50)\"}",
         "name": "first_name",
         "type": "\"string\""
        },
        {
         "metadata": "{\"__CHAR_VARCHAR_TYPE_STRING\":\"varchar(50)\"}",
         "name": "last_name",
         "type": "\"string\""
        },
        {
         "metadata": "{\"__CHAR_VARCHAR_TYPE_STRING\":\"varchar(50)\"}",
         "name": "department",
         "type": "\"string\""
        },
        {
         "metadata": "{\"__CHAR_VARCHAR_TYPE_STRING\":\"varchar(50)\"}",
         "name": "job_title",
         "type": "\"string\""
        },
        {
         "metadata": "{}",
         "name": "salary",
         "type": "\"decimal(10,2)\""
        },
        {
         "metadata": "{}",
         "name": "hire_date",
         "type": "\"date\""
        },
        {
         "metadata": "{\"__CHAR_VARCHAR_TYPE_STRING\":\"varchar(20)\"}",
         "name": "status",
         "type": "\"string\""
        },
        {
         "metadata": "{\"__CHAR_VARCHAR_TYPE_STRING\":\"varchar(50)\"}",
         "name": "city",
         "type": "\"string\""
        },
        {
         "metadata": "{\"__CHAR_VARCHAR_TYPE_STRING\":\"varchar(100)\"}",
         "name": "email",
         "type": "\"string\""
        }
       ],
       "type": "table"
      }
     },
     "output_type": "display_data"
    }
   ],
   "source": [
    "%sql\n",
    "select * from employees order by salary desc limit 1 offset 1 ;--second highest salary"
   ]
  },
  {
   "cell_type": "code",
   "execution_count": 0,
   "metadata": {
    "application/vnd.databricks.v1+cell": {
     "cellMetadata": {
      "byteLimit": 2048000,
      "implicitDf": true,
      "rowLimit": 10000
     },
     "collapsed": true,
     "inputWidgets": {},
     "nuid": "5b2527e8-2a8c-481d-bfda-f913efe14949",
     "showTitle": false,
     "tableResultSettingsMap": {},
     "title": ""
    }
   },
   "outputs": [
    {
     "output_type": "display_data",
     "data": {
      "text/html": [
       "<style scoped>\n",
       "  .table-result-container {\n",
       "    max-height: 300px;\n",
       "    overflow: auto;\n",
       "  }\n",
       "  table, th, td {\n",
       "    border: 1px solid black;\n",
       "    border-collapse: collapse;\n",
       "  }\n",
       "  th, td {\n",
       "    padding: 5px;\n",
       "  }\n",
       "  th {\n",
       "    text-align: left;\n",
       "  }\n",
       "</style><div class='table-result-container'><table class='table-result'><thead style='background-color: white'><tr><th>col_name</th><th>data_type</th><th>comment</th></tr></thead><tbody><tr><td>emp_id</td><td>int</td><td>null</td></tr><tr><td>first_name</td><td>varchar(50)</td><td>null</td></tr><tr><td>last_name</td><td>varchar(50)</td><td>null</td></tr><tr><td>department</td><td>varchar(50)</td><td>null</td></tr><tr><td>job_title</td><td>varchar(50)</td><td>null</td></tr><tr><td>salary</td><td>decimal(10,2)</td><td>null</td></tr><tr><td>hire_date</td><td>date</td><td>null</td></tr><tr><td>status</td><td>varchar(20)</td><td>null</td></tr><tr><td>city</td><td>varchar(50)</td><td>null</td></tr><tr><td>email</td><td>varchar(100)</td><td>null</td></tr></tbody></table></div>"
      ]
     },
     "metadata": {
      "application/vnd.databricks.v1+output": {
       "addedWidgets": {},
       "aggData": [],
       "aggError": "",
       "aggOverflow": false,
       "aggSchema": [],
       "aggSeriesLimitReached": false,
       "aggType": "",
       "arguments": {},
       "columnCustomDisplayInfos": {},
       "data": [
        [
         "emp_id",
         "int",
         null
        ],
        [
         "first_name",
         "varchar(50)",
         null
        ],
        [
         "last_name",
         "varchar(50)",
         null
        ],
        [
         "department",
         "varchar(50)",
         null
        ],
        [
         "job_title",
         "varchar(50)",
         null
        ],
        [
         "salary",
         "decimal(10,2)",
         null
        ],
        [
         "hire_date",
         "date",
         null
        ],
        [
         "status",
         "varchar(20)",
         null
        ],
        [
         "city",
         "varchar(50)",
         null
        ],
        [
         "email",
         "varchar(100)",
         null
        ]
       ],
       "datasetInfos": [],
       "dbfsResultPath": null,
       "isJsonSchema": true,
       "metadata": {},
       "overflow": false,
       "plotOptions": {
        "customPlotOptions": {},
        "displayType": "table",
        "pivotAggregation": null,
        "pivotColumns": null,
        "xColumns": null,
        "yColumns": null
       },
       "removedWidgets": [],
       "schema": [
        {
         "metadata": "{\"comment\":\"name of the column\"}",
         "name": "col_name",
         "type": "\"string\""
        },
        {
         "metadata": "{\"comment\":\"data type of the column\"}",
         "name": "data_type",
         "type": "\"string\""
        },
        {
         "metadata": "{\"comment\":\"comment of the column\"}",
         "name": "comment",
         "type": "\"string\""
        }
       ],
       "type": "table"
      }
     },
     "output_type": "display_data"
    }
   ],
   "source": [
    "%sql\n",
    "DESCRIBE TABLE employees;"
   ]
  }
 ],
 "metadata": {
  "application/vnd.databricks.v1+notebook": {
   "computePreferences": null,
   "dashboards": [],
   "environmentMetadata": {
    "base_environment": "",
    "environment_version": "1"
   },
   "inputWidgetPreferences": null,
   "language": "python",
   "notebookMetadata": {
    "mostRecentlyExecutedCommandWithImplicitDF": {
     "commandId": 1572421995957724,
     "dataframes": [
      "_sqldf"
     ]
    },
    "pythonIndentUnit": 4
   },
   "notebookName": "Class1",
   "widgets": {}
  }
 },
 "nbformat": 4,
 "nbformat_minor": 0
}